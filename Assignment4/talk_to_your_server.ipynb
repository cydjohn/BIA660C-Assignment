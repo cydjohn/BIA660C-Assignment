{
 "cells": [
  {
   "cell_type": "markdown",
   "metadata": {},
   "source": [
    "if you ever need to create a new python 2 virtual environment:\n",
    "conda create --name thenameyouwant python=2 anaconda"
   ]
  },
  {
   "cell_type": "code",
   "execution_count": 1,
   "metadata": {
    "collapsed": true
   },
   "outputs": [],
   "source": [
    "from fabric.api import *\n",
    "\n",
    "env.host_string=\"ec2-35-163-157-65.us-west-2.compute.amazonaws.com\"\n",
    "env.user = \"ubuntu\"\n",
    "env.key_filename = ['/Users/admin/Desktop/BIA660/stevens.pem']"
   ]
  },
  {
   "cell_type": "code",
   "execution_count": 2,
   "metadata": {
    "collapsed": false
   },
   "outputs": [
    {
     "name": "stdout",
     "output_type": "stream",
     "text": [
      "[ec2-35-163-157-65.us-west-2.compute.amazonaws.com] run: uname -a\n"
     ]
    },
    {
     "name": "stdout",
     "output_type": "stream",
     "text": [
      "[ec2-35-163-157-65.us-west-2.compute.amazonaws.com] out: "
     ]
    },
    {
     "name": "stdout",
     "output_type": "stream",
     "text": [
      "Linux ip-172-31-22-236 4.4.0-59-generic #80-Ubuntu SMP Fri Jan 6 17:47:47 UTC 2017 x86_64 x86_64 x86_64 GNU/Linux"
     ]
    },
    {
     "name": "stdout",
     "output_type": "stream",
     "text": [
      "\n"
     ]
    },
    {
     "name": "stdout",
     "output_type": "stream",
     "text": [
      "[ec2-35-163-157-65.us-west-2.compute.amazonaws.com] out: "
     ]
    },
    {
     "name": "stdout",
     "output_type": "stream",
     "text": [
      "\n"
     ]
    },
    {
     "name": "stdout",
     "output_type": "stream",
     "text": [
      "\n"
     ]
    },
    {
     "data": {
      "text/plain": [
       "'Linux ip-172-31-22-236 4.4.0-59-generic #80-Ubuntu SMP Fri Jan 6 17:47:47 UTC 2017 x86_64 x86_64 x86_64 GNU/Linux'"
      ]
     },
     "execution_count": 2,
     "metadata": {},
     "output_type": "execute_result"
    }
   ],
   "source": [
    "# run a command on the server to make sure you're connected\n",
    "run('uname -a')"
   ]
  },
  {
   "cell_type": "code",
   "execution_count": 3,
   "metadata": {
    "collapsed": false
   },
   "outputs": [
    {
     "name": "stdout",
     "output_type": "stream",
     "text": [
      "[ec2-35-163-157-65.us-west-2.compute.amazonaws.com] sudo: service myproject stop\n"
     ]
    },
    {
     "data": {
      "text/plain": [
       "''"
      ]
     },
     "execution_count": 3,
     "metadata": {},
     "output_type": "execute_result"
    }
   ],
   "source": [
    "# stop the service for your project so you can edit the code\n",
    "sudo('service myproject stop')"
   ]
  },
  {
   "cell_type": "code",
   "execution_count": 4,
   "metadata": {
    "collapsed": false
   },
   "outputs": [
    {
     "name": "stdout",
     "output_type": "stream",
     "text": [
      "[ec2-35-163-157-65.us-west-2.compute.amazonaws.com] sudo: service nginx stop\n"
     ]
    },
    {
     "data": {
      "text/plain": [
       "''"
      ]
     },
     "execution_count": 4,
     "metadata": {},
     "output_type": "execute_result"
    }
   ],
   "source": [
    "# stop nginx so you can use port 41593 for testing\n",
    "sudo('service nginx stop')"
   ]
  },
  {
   "cell_type": "code",
   "execution_count": 5,
   "metadata": {
    "collapsed": false
   },
   "outputs": [
    {
     "name": "stdout",
     "output_type": "stream",
     "text": [
      "[ec2-35-163-157-65.us-west-2.compute.amazonaws.com] download: /Users/admin/ec2-35-163-157-65.us-west-2.compute.amazonaws.com/myproject.py <- /home/ubuntu/myproject.py\n"
     ]
    },
    {
     "name": "stderr",
     "output_type": "stream",
     "text": [
      "\nWarning: Local file /Users/admin/ec2-35-163-157-65.us-west-2.compute.amazonaws.com/myproject.py already exists and is being overwritten.\n\n"
     ]
    },
    {
     "data": {
      "text/plain": [
       "[u'/Users/admin/ec2-35-163-157-65.us-west-2.compute.amazonaws.com/myproject.py']"
      ]
     },
     "execution_count": 5,
     "metadata": {},
     "output_type": "execute_result"
    }
   ],
   "source": [
    "# download the current code for your project\n",
    "get('myproject.py')"
   ]
  },
  {
   "cell_type": "code",
   "execution_count": 19,
   "metadata": {
    "collapsed": false
   },
   "outputs": [
    {
     "name": "stdout",
     "output_type": "stream",
     "text": [
      "/Users/admin/BIA660C-Assignment/Chat_bot\r\n"
     ]
    }
   ],
   "source": [
    "# see what directory your currently in on the local machine\n",
    "!pwd"
   ]
  },
  {
   "cell_type": "code",
   "execution_count": 20,
   "metadata": {
    "collapsed": false
   },
   "outputs": [],
   "source": [
    "# cd into the directory created when you downloaded the project.py file\n",
    "import os\n",
    "os.chdir('/Users/admin/BIA660C-Assignment/Chat_bot/')"
   ]
  },
  {
   "cell_type": "code",
   "execution_count": 21,
   "metadata": {
    "collapsed": false
   },
   "outputs": [
    {
     "name": "stdout",
     "output_type": "stream",
     "text": [
      "/Users/admin/BIA660C-Assignment/Chat_bot\r\n"
     ]
    }
   ],
   "source": [
    "# checking to make sure we're in the right working directory\n",
    "!pwd"
   ]
  },
  {
   "cell_type": "code",
   "execution_count": 22,
   "metadata": {
    "collapsed": false
   },
   "outputs": [
    {
     "name": "stdout",
     "output_type": "stream",
     "text": [
      "Keys.py\r\nKeys.pyc\r\nTest_request.py\r\n\u001b[34mec2-35-163-157-65.us-west-2.compute.amazonaws.com\u001b[m\u001b[m\r\n\u001b[34mec2-35-166-108-198.us-west-2.compute.amazonaws.com\u001b[m\u001b[m\r\nmyproject.py\r\nplay_with_requests.ipynb\r\ntalk_to_your_server.ipynb\r\n"
     ]
    }
   ],
   "source": [
    "# list the files to see what's there\n",
    "!ls"
   ]
  },
  {
   "cell_type": "code",
   "execution_count": 29,
   "metadata": {
    "collapsed": false
   },
   "outputs": [
    {
     "name": "stdout",
     "output_type": "stream",
     "text": [
      "[ec2-35-163-157-65.us-west-2.compute.amazonaws.com] put: myproject.py -> /home/ubuntu/myproject.py\n"
     ]
    },
    {
     "data": {
      "text/plain": [
       "[u'/home/ubuntu/myproject.py']"
      ]
     },
     "execution_count": 29,
     "metadata": {},
     "output_type": "execute_result"
    }
   ],
   "source": [
    "# edit the code in a separate window, feel free to use my code\n",
    "put('myproject.py')"
   ]
  },
  {
   "cell_type": "code",
   "execution_count": 30,
   "metadata": {},
   "outputs": [
    {
     "name": "stdout",
     "output_type": "stream",
     "text": [
      "[ec2-35-163-157-65.us-west-2.compute.amazonaws.com] put: Keys.py -> /home/ubuntu/Keys.py\n"
     ]
    },
    {
     "data": {
      "text/plain": [
       "[u'/home/ubuntu/Keys.py']"
      ]
     },
     "execution_count": 30,
     "metadata": {},
     "output_type": "execute_result"
    }
   ],
   "source": [
    "put('Keys.py')"
   ]
  },
  {
   "cell_type": "code",
   "execution_count": 31,
   "metadata": {
    "collapsed": true
   },
   "outputs": [
    {
     "name": "stdout",
     "output_type": "stream",
     "text": [
      "[ec2-35-163-157-65.us-west-2.compute.amazonaws.com] run: pip install textblob\n"
     ]
    },
    {
     "name": "stdout",
     "output_type": "stream",
     "text": [
      "[ec2-35-163-157-65.us-west-2.compute.amazonaws.com] out: "
     ]
    },
    {
     "name": "stdout",
     "output_type": "stream",
     "text": [
      "Requirement already satisfied: textblob in ./anaconda2/envs/chatbot/lib/python2.7/site-packages\n"
     ]
    },
    {
     "name": "stdout",
     "output_type": "stream",
     "text": [
      "[ec2-35-163-157-65.us-west-2.compute.amazonaws.com] out: "
     ]
    },
    {
     "name": "stdout",
     "output_type": "stream",
     "text": [
      "Requirement already satisfied: nltk>=3.1 in ./anaconda2/envs/chatbot/lib/python2.7/site-packages (from textblob)\n"
     ]
    },
    {
     "name": "stdout",
     "output_type": "stream",
     "text": [
      "[ec2-35-163-157-65.us-west-2.compute.amazonaws.com] out: "
     ]
    },
    {
     "name": "stdout",
     "output_type": "stream",
     "text": [
      "Requirement already satisfied: six in ./anaconda2/envs/chatbot/lib/python2.7/site-packages (from nltk>=3.1->textblob)\n"
     ]
    },
    {
     "name": "stdout",
     "output_type": "stream",
     "text": [
      "[ec2-35-163-157-65.us-west-2.compute.amazonaws.com] out: "
     ]
    },
    {
     "name": "stdout",
     "output_type": "stream",
     "text": [
      "\n"
     ]
    },
    {
     "name": "stdout",
     "output_type": "stream",
     "text": [
      "\n"
     ]
    }
   ],
   "source": [
    "# if you are using my code with TextBlob make sure to install TextBlob to the chatbot env\n",
    "with prefix('source activate chatbot'):\n",
    "    run('pip install textblob')"
   ]
  },
  {
   "cell_type": "code",
   "execution_count": 32,
   "metadata": {
    "collapsed": false,
    "scrolled": true
   },
   "outputs": [
    {
     "name": "stdout",
     "output_type": "stream",
     "text": [
      "[ec2-35-163-157-65.us-west-2.compute.amazonaws.com] run: python myproject.py\n"
     ]
    },
    {
     "name": "stdout",
     "output_type": "stream",
     "text": [
      "[ec2-35-163-157-65.us-west-2.compute.amazonaws.com] out: "
     ]
    },
    {
     "name": "stdout",
     "output_type": "stream",
     "text": [
      " * Running on http://0.0.0.0:41953/ (Press CTRL+C to quit)\n"
     ]
    },
    {
     "name": "stdout",
     "output_type": "stream",
     "text": [
      "[ec2-35-163-157-65.us-west-2.compute.amazonaws.com] out: "
     ]
    },
    {
     "name": "stdout",
     "output_type": "stream",
     "text": [
      "========POST REQUEST @ /slack=========\n"
     ]
    },
    {
     "name": "stdout",
     "output_type": "stream",
     "text": [
      "[ec2-35-163-157-65.us-west-2.compute.amazonaws.com] out: "
     ]
    },
    {
     "name": "stdout",
     "output_type": "stream",
     "text": [
      "FORM DATA RECEIVED IS:\n"
     ]
    },
    {
     "name": "stdout",
     "output_type": "stream",
     "text": [
      "[ec2-35-163-157-65.us-west-2.compute.amazonaws.com] out: "
     ]
    },
    {
     "name": "stdout",
     "output_type": "stream",
     "text": [
      "ImmutableMultiDict([('user_id', u'U4AR0RMB7'), ('channel_id', u'C4B9ZV3SA'), ('timestamp', u'1488746587.969738'), ('token', u'9PbCyKAa0SIXMAJzaWDRRei2'), ('channel_name', u'bot_chat'), ('team_id', u'T4AKCH42W'), ('team_domain', u'sitbia660'), ('text', u\"&lt;WHAT'S_THE_WEATHER_LIKE_AT&gt;: 45 Main St Brooklyn, NY\"), ('service_id', u'146659565858'), ('user_name', u'rong')])\n"
     ]
    },
    {
     "name": "stdout",
     "output_type": "stream",
     "text": [
      "[ec2-35-163-157-65.us-west-2.compute.amazonaws.com] out: "
     ]
    },
    {
     "name": "stdout",
     "output_type": "stream",
     "text": [
      "\n"
     ]
    },
    {
     "name": "stdout",
     "output_type": "stream",
     "text": [
      "[ec2-35-163-157-65.us-west-2.compute.amazonaws.com] out: "
     ]
    },
    {
     "name": "stdout",
     "output_type": "stream",
     "text": [
      "\n"
     ]
    },
    {
     "name": "stdout",
     "output_type": "stream",
     "text": [
      "[ec2-35-163-157-65.us-west-2.compute.amazonaws.com] out: "
     ]
    },
    {
     "name": "stdout",
     "output_type": "stream",
     "text": [
      "Message:\n"
     ]
    },
    {
     "name": "stdout",
     "output_type": "stream",
     "text": [
      "[ec2-35-163-157-65.us-west-2.compute.amazonaws.com] out: "
     ]
    },
    {
     "name": "stdout",
     "output_type": "stream",
     "text": [
      "rong in bot_chat says: &lt;WHAT'S_THE_WEATHER_LIKE_AT&gt;: 45 Main St Brooklyn, NY\n"
     ]
    },
    {
     "name": "stdout",
     "output_type": "stream",
     "text": [
      "[ec2-35-163-157-65.us-west-2.compute.amazonaws.com] out: "
     ]
    },
    {
     "name": "stdout",
     "output_type": "stream",
     "text": [
      "========REQUEST HANDLING COMPLETE========"
     ]
    },
    {
     "name": "stdout",
     "output_type": "stream",
     "text": [
      "\n"
     ]
    },
    {
     "name": "stdout",
     "output_type": "stream",
     "text": [
      "[ec2-35-163-157-65.us-west-2.compute.amazonaws.com] out: "
     ]
    },
    {
     "name": "stdout",
     "output_type": "stream",
     "text": [
      "\n"
     ]
    },
    {
     "name": "stdout",
     "output_type": "stream",
     "text": [
      "[ec2-35-163-157-65.us-west-2.compute.amazonaws.com] out: "
     ]
    },
    {
     "name": "stdout",
     "output_type": "stream",
     "text": [
      "\n"
     ]
    },
    {
     "name": "stdout",
     "output_type": "stream",
     "text": [
      "[ec2-35-163-157-65.us-west-2.compute.amazonaws.com] out: "
     ]
    },
    {
     "name": "stdout",
     "output_type": "stream",
     "text": [
      "52.91.184.228 - - [05/Mar/2017 20:43:07] \"POST /slack HTTP/1.1\" 200 -\n"
     ]
    },
    {
     "name": "stdout",
     "output_type": "stream",
     "text": [
      "[ec2-35-163-157-65.us-west-2.compute.amazonaws.com] out: "
     ]
    },
    {
     "name": "stdout",
     "output_type": "stream",
     "text": [
      "========POST REQUEST @ /slack=========\n"
     ]
    },
    {
     "name": "stdout",
     "output_type": "stream",
     "text": [
      "[ec2-35-163-157-65.us-west-2.compute.amazonaws.com] out: "
     ]
    },
    {
     "name": "stdout",
     "output_type": "stream",
     "text": [
      "FORM DATA RECEIVED IS:\n"
     ]
    },
    {
     "name": "stdout",
     "output_type": "stream",
     "text": [
      "[ec2-35-163-157-65.us-west-2.compute.amazonaws.com] out: "
     ]
    },
    {
     "name": "stdout",
     "output_type": "stream",
     "text": [
      "ImmutableMultiDict([('user_id', u'U4B9ZS27Q'), ('channel_id', u'C4B9ZV3SA'), ('timestamp', u'1488746613.971038'), ('token', u'9PbCyKAa0SIXMAJzaWDRRei2'), ('channel_name', u'bot_chat'), ('team_id', u'T4AKCH42W'), ('team_domain', u'sitbia660'), ('text', u'&lt;BOTS_RESPOND&gt;'), ('service_id', u'146659565858'), ('user_name', u'tinayliu163')])\n"
     ]
    },
    {
     "name": "stdout",
     "output_type": "stream",
     "text": [
      "[ec2-35-163-157-65.us-west-2.compute.amazonaws.com] out: "
     ]
    },
    {
     "name": "stdout",
     "output_type": "stream",
     "text": [
      "\n"
     ]
    },
    {
     "name": "stdout",
     "output_type": "stream",
     "text": [
      "[ec2-35-163-157-65.us-west-2.compute.amazonaws.com] out: "
     ]
    },
    {
     "name": "stdout",
     "output_type": "stream",
     "text": [
      "\n"
     ]
    },
    {
     "name": "stdout",
     "output_type": "stream",
     "text": [
      "[ec2-35-163-157-65.us-west-2.compute.amazonaws.com] out: "
     ]
    },
    {
     "name": "stdout",
     "output_type": "stream",
     "text": [
      "Message:\n"
     ]
    },
    {
     "name": "stdout",
     "output_type": "stream",
     "text": [
      "[ec2-35-163-157-65.us-west-2.compute.amazonaws.com] out: "
     ]
    },
    {
     "name": "stdout",
     "output_type": "stream",
     "text": [
      "tinayliu163 in bot_chat says: &lt;BOTS_RESPOND&gt;\n"
     ]
    },
    {
     "name": "stdout",
     "output_type": "stream",
     "text": [
      "[ec2-35-163-157-65.us-west-2.compute.amazonaws.com] out: "
     ]
    },
    {
     "name": "stdout",
     "output_type": "stream",
     "text": [
      "&lt;BOTS_RESPOND&gt;\t printing task1\n"
     ]
    },
    {
     "name": "stdout",
     "output_type": "stream",
     "text": [
      "[ec2-35-163-157-65.us-west-2.compute.amazonaws.com] out: "
     ]
    },
    {
     "name": "stdout",
     "output_type": "stream",
     "text": [
      "Bot is responding to personal information question\n"
     ]
    },
    {
     "name": "stdout",
     "output_type": "stream",
     "text": [
      "[ec2-35-163-157-65.us-west-2.compute.amazonaws.com] out: "
     ]
    },
    {
     "name": "stdout",
     "output_type": "stream",
     "text": [
      "Response text set correctly"
     ]
    },
    {
     "name": "stdout",
     "output_type": "stream",
     "text": [
      "\n"
     ]
    },
    {
     "name": "stdout",
     "output_type": "stream",
     "text": [
      "[ec2-35-163-157-65.us-west-2.compute.amazonaws.com] out: "
     ]
    },
    {
     "name": "stdout",
     "output_type": "stream",
     "text": [
      "Hello, my name is tina_bot. I belong to tinayliu163. I live at 35.163.157.65.\n"
     ]
    },
    {
     "name": "stdout",
     "output_type": "stream",
     "text": [
      "[ec2-35-163-157-65.us-west-2.compute.amazonaws.com] out: "
     ]
    },
    {
     "name": "stdout",
     "output_type": "stream",
     "text": [
      "========REQUEST HANDLING COMPLETE========\n"
     ]
    },
    {
     "name": "stdout",
     "output_type": "stream",
     "text": [
      "[ec2-35-163-157-65.us-west-2.compute.amazonaws.com] out: "
     ]
    },
    {
     "name": "stdout",
     "output_type": "stream",
     "text": [
      "\n"
     ]
    },
    {
     "name": "stdout",
     "output_type": "stream",
     "text": [
      "[ec2-35-163-157-65.us-west-2.compute.amazonaws.com] out: "
     ]
    },
    {
     "name": "stdout",
     "output_type": "stream",
     "text": [
      "\n"
     ]
    },
    {
     "name": "stdout",
     "output_type": "stream",
     "text": [
      "[ec2-35-163-157-65.us-west-2.compute.amazonaws.com] out: "
     ]
    },
    {
     "name": "stdout",
     "output_type": "stream",
     "text": [
      "54.209.231.248 - - [05/Mar/2017 20:43:33] \"POST /slack HTTP/1.1\" 200 -\n"
     ]
    },
    {
     "name": "stdout",
     "output_type": "stream",
     "text": [
      "[ec2-35-163-157-65.us-west-2.compute.amazonaws.com] out: "
     ]
    },
    {
     "name": "stdout",
     "output_type": "stream",
     "text": [
      "========POST REQUEST @ /slack=========\n"
     ]
    },
    {
     "name": "stdout",
     "output_type": "stream",
     "text": [
      "[ec2-35-163-157-65.us-west-2.compute.amazonaws.com] out: "
     ]
    },
    {
     "name": "stdout",
     "output_type": "stream",
     "text": [
      "FORM DATA RECEIVED IS:\n"
     ]
    },
    {
     "name": "stdout",
     "output_type": "stream",
     "text": [
      "[ec2-35-163-157-65.us-west-2.compute.amazonaws.com] out: "
     ]
    },
    {
     "name": "stdout",
     "output_type": "stream",
     "text": [
      "ImmutableMultiDict([('user_id', u'USLACKBOT'), ('channel_id', u'C4B9ZV3SA'), ('timestamp', u'1488746613.971054'), ('token', u'9PbCyKAa0SIXMAJzaWDRRei2'), ('bot_name', u'tina_bot'), ('channel_name', u'bot_chat'), ('team_id', u'T4AKCH42W'), ('team_domain', u'sitbia660'), ('text', u'Hello, my name is tina_bot. I belong to tinayliu163. I live at 35.163.157.65.'), ('service_id', u'146659565858'), ('user_name', u'slackbot'), ('bot_id', u'B4AMD95K6')])\n"
     ]
    },
    {
     "name": "stdout",
     "output_type": "stream",
     "text": [
      "[ec2-35-163-157-65.us-west-2.compute.amazonaws.com] out: "
     ]
    },
    {
     "name": "stdout",
     "output_type": "stream",
     "text": [
      "\n"
     ]
    },
    {
     "name": "stdout",
     "output_type": "stream",
     "text": [
      "[ec2-35-163-157-65.us-west-2.compute.amazonaws.com] out: "
     ]
    },
    {
     "name": "stdout",
     "output_type": "stream",
     "text": [
      "\n"
     ]
    },
    {
     "name": "stdout",
     "output_type": "stream",
     "text": [
      "[ec2-35-163-157-65.us-west-2.compute.amazonaws.com] out: "
     ]
    },
    {
     "name": "stdout",
     "output_type": "stream",
     "text": [
      "Message:\n"
     ]
    },
    {
     "name": "stdout",
     "output_type": "stream",
     "text": [
      "[ec2-35-163-157-65.us-west-2.compute.amazonaws.com] out: "
     ]
    },
    {
     "name": "stdout",
     "output_type": "stream",
     "text": [
      "slackbot in bot_chat says: Hello, my name is tina_bot. I belong to tinayliu163. I live at 35.163.157.65.\n"
     ]
    },
    {
     "name": "stdout",
     "output_type": "stream",
     "text": [
      "[ec2-35-163-157-65.us-west-2.compute.amazonaws.com] out: "
     ]
    },
    {
     "name": "stdout",
     "output_type": "stream",
     "text": [
      "========REQUEST HANDLING COMPLETE========\n"
     ]
    },
    {
     "name": "stdout",
     "output_type": "stream",
     "text": [
      "[ec2-35-163-157-65.us-west-2.compute.amazonaws.com] out: "
     ]
    },
    {
     "name": "stdout",
     "output_type": "stream",
     "text": [
      "\n"
     ]
    },
    {
     "name": "stdout",
     "output_type": "stream",
     "text": [
      "[ec2-35-163-157-65.us-west-2.compute.amazonaws.com] out: "
     ]
    },
    {
     "name": "stdout",
     "output_type": "stream",
     "text": [
      "\n"
     ]
    },
    {
     "name": "stdout",
     "output_type": "stream",
     "text": [
      "[ec2-35-163-157-65.us-west-2.compute.amazonaws.com] out: "
     ]
    },
    {
     "name": "stdout",
     "output_type": "stream",
     "text": [
      "54.209.231.248 - - [05/Mar/2017 20:43:34] \"POST /slack HTTP/1.1\" 200 -\n"
     ]
    },
    {
     "name": "stdout",
     "output_type": "stream",
     "text": [
      "[ec2-35-163-157-65.us-west-2.compute.amazonaws.com] out: "
     ]
    },
    {
     "name": "stdout",
     "output_type": "stream",
     "text": [
      "========POST REQUEST @ /slack=========\n"
     ]
    },
    {
     "name": "stdout",
     "output_type": "stream",
     "text": [
      "[ec2-35-163-157-65.us-west-2.compute.amazonaws.com] out: "
     ]
    },
    {
     "name": "stdout",
     "output_type": "stream",
     "text": [
      "FORM DATA RECEIVED IS:\n"
     ]
    },
    {
     "name": "stdout",
     "output_type": "stream",
     "text": [
      "[ec2-35-163-157-65.us-west-2.compute.amazonaws.com] out: "
     ]
    },
    {
     "name": "stdout",
     "output_type": "stream",
     "text": [
      "ImmutableMultiDict([('user_id', u'U4B9ZS27Q'), ('channel_id', u'C4B9ZV3SA'), ('timestamp', u'1488746622.971300'), ('token', u'9PbCyKAa0SIXMAJzaWDRRei2'), ('channel_name', u'bot_chat'), ('team_id', u'T4AKCH42W'), ('team_domain', u'sitbia660'), ('text', u'&lt;I_NEED_HELP_WITH_CODING&gt;: how to find duplicates in a list'), ('service_id', u'146659565858'), ('user_name', u'tinayliu163')])\n"
     ]
    },
    {
     "name": "stdout",
     "output_type": "stream",
     "text": [
      "[ec2-35-163-157-65.us-west-2.compute.amazonaws.com] out: "
     ]
    },
    {
     "name": "stdout",
     "output_type": "stream",
     "text": [
      "\n"
     ]
    },
    {
     "name": "stdout",
     "output_type": "stream",
     "text": [
      "[ec2-35-163-157-65.us-west-2.compute.amazonaws.com] out: "
     ]
    },
    {
     "name": "stdout",
     "output_type": "stream",
     "text": [
      "\n"
     ]
    },
    {
     "name": "stdout",
     "output_type": "stream",
     "text": [
      "[ec2-35-163-157-65.us-west-2.compute.amazonaws.com] out: "
     ]
    },
    {
     "name": "stdout",
     "output_type": "stream",
     "text": [
      "Message:\n"
     ]
    },
    {
     "name": "stdout",
     "output_type": "stream",
     "text": [
      "[ec2-35-163-157-65.us-west-2.compute.amazonaws.com] out: "
     ]
    },
    {
     "name": "stdout",
     "output_type": "stream",
     "text": [
      "tinayliu163 in bot_chat says: &lt;I_NEED_HELP_WITH_CODING&gt;: how to find duplicates in a list\n"
     ]
    },
    {
     "name": "stdout",
     "output_type": "stream",
     "text": [
      "[ec2-35-163-157-65.us-west-2.compute.amazonaws.com] out: "
     ]
    },
    {
     "name": "stdout",
     "output_type": "stream",
     "text": [
      "&lt;I_NEED_HELP_WITH_CODING&gt;: how to find duplicates in a list\t printing task1\n"
     ]
    },
    {
     "name": "stdout",
     "output_type": "stream",
     "text": [
      "[ec2-35-163-157-65.us-west-2.compute.amazonaws.com] out: "
     ]
    },
    {
     "name": "stdout",
     "output_type": "stream",
     "text": [
      "Bot is responding to my question\n"
     ]
    },
    {
     "name": "stdout",
     "output_type": "stream",
     "text": [
      "[ec2-35-163-157-65.us-west-2.compute.amazonaws.com] out: "
     ]
    },
    {
     "name": "stdout",
     "output_type": "stream",
     "text": [
      "Fuk=ll Text:&lt;I_NEED_HELP_WITH_CODING&gt;: how to find duplicates in a list\n"
     ]
    },
    {
     "name": "stdout",
     "output_type": "stream",
     "text": [
      "[ec2-35-163-157-65.us-west-2.compute.amazonaws.com] out: "
     ]
    },
    {
     "name": "stdout",
     "output_type": "stream",
     "text": [
      "[u'&lt;I_NEED_HELP_WITH_CODING&gt;', u' how to find duplicates in a list']\n"
     ]
    },
    {
     "name": "stdout",
     "output_type": "stream",
     "text": [
      "[ec2-35-163-157-65.us-west-2.compute.amazonaws.com] out: "
     ]
    },
    {
     "name": "stdout",
     "output_type": "stream",
     "text": [
      "The question is : how to find duplicates in a list"
     ]
    },
    {
     "name": "stdout",
     "output_type": "stream",
     "text": [
      "\n"
     ]
    },
    {
     "name": "stdout",
     "output_type": "stream",
     "text": [
      "[ec2-35-163-157-65.us-west-2.compute.amazonaws.com] out: "
     ]
    },
    {
     "name": "stdout",
     "output_type": "stream",
     "text": [
      "Response text set correctly\n"
     ]
    },
    {
     "name": "stdout",
     "output_type": "stream",
     "text": [
      "[ec2-35-163-157-65.us-west-2.compute.amazonaws.com] out: "
     ]
    },
    {
     "name": "stdout",
     "output_type": "stream",
     "text": [
      "[{'color': '#ff6e5d', 'text': u'<http://stackoverflow.com/questions/24729544/how-to-find-duplicates-in-a-list|Click to view!>  (4 Response)\\t Jul 14 2014', 'title': u'How to find duplicates in a list?'}, {'color': '#ff6e5d', 'text': u'<http://stackoverflow.com/questions/792333/how-to-find-duplicates-in-a-listt-quickly-and-update-the-original-collection|Click to view!>  (3 Response)\\t Apr 27 2009', 'title': u'How to find duplicates in a List&lt;T&gt; quickly, and update the original collection'}, {'color': '#ff6e5d', 'text': u'<http://stackoverflow.com/questions/21925497/how-to-find-a-duplicate-in-a-list-without-using-set-in-python|Click to view!>  (7 Response)\\t Feb 21 2014', 'title': u'How to find a duplicate in a list without using set in python?'}, {'color': '#ff6e5d', 'text': u'<http://stackoverflow.com/questions/17891059/how-to-find-duplicates-in-a-stdvectorstrings-and-return-a-stdlist-of-them|Click to view!>  (3 Response)\\t Jul 26 2013', 'title': u'How to find duplicates in a std::vector&lt;strings&gt; and return a std::list of them sorted alphabetically without duplicates in that resulting list'}, {'color': '#ff6e5d', 'text': u'<http://stackoverflow.com/questions/27003538/how-to-find-duplicate-dates-in-a-list-and-group-the-description|Click to view!>  (3 Response)\\t Nov 18 2014', 'title': u'How to find duplicate dates in a list and group the description'}]\n"
     ]
    },
    {
     "name": "stdout",
     "output_type": "stream",
     "text": [
      "[ec2-35-163-157-65.us-west-2.compute.amazonaws.com] out: "
     ]
    },
    {
     "name": "stdout",
     "output_type": "stream",
     "text": [
      "========REQUEST HANDLING COMPLETE========\n"
     ]
    },
    {
     "name": "stdout",
     "output_type": "stream",
     "text": [
      "[ec2-35-163-157-65.us-west-2.compute.amazonaws.com] out: "
     ]
    },
    {
     "name": "stdout",
     "output_type": "stream",
     "text": [
      "\n"
     ]
    },
    {
     "name": "stdout",
     "output_type": "stream",
     "text": [
      "[ec2-35-163-157-65.us-west-2.compute.amazonaws.com] out: "
     ]
    },
    {
     "name": "stdout",
     "output_type": "stream",
     "text": [
      "\n"
     ]
    },
    {
     "name": "stdout",
     "output_type": "stream",
     "text": [
      "[ec2-35-163-157-65.us-west-2.compute.amazonaws.com] out: "
     ]
    },
    {
     "name": "stdout",
     "output_type": "stream",
     "text": [
      "52.90.121.46 - - [05/Mar/2017 20:43:43] \"POST /slack HTTP/1.1\" 200 -\n"
     ]
    },
    {
     "name": "stdout",
     "output_type": "stream",
     "text": [
      "[ec2-35-163-157-65.us-west-2.compute.amazonaws.com] out: "
     ]
    },
    {
     "name": "stdout",
     "output_type": "stream",
     "text": [
      "========POST REQUEST @ /slack=========\n"
     ]
    },
    {
     "name": "stdout",
     "output_type": "stream",
     "text": [
      "[ec2-35-163-157-65.us-west-2.compute.amazonaws.com] out: "
     ]
    },
    {
     "name": "stdout",
     "output_type": "stream",
     "text": [
      "FORM DATA RECEIVED IS:\n"
     ]
    },
    {
     "name": "stdout",
     "output_type": "stream",
     "text": [
      "[ec2-35-163-157-65.us-west-2.compute.amazonaws.com] out: "
     ]
    },
    {
     "name": "stdout",
     "output_type": "stream",
     "text": [
      "ImmutableMultiDict([('user_id', u'USLACKBOT'), ('channel_id', u'C4B9ZV3SA'), ('timestamp', u'1488746623.971326'), ('token', u'9PbCyKAa0SIXMAJzaWDRRei2'), ('bot_name', u'tina_bot'), ('channel_name', u'bot_chat'), ('team_id', u'T4AKCH42W'), ('team_domain', u'sitbia660'), ('text', u' Responses in StackOverflow '), ('service_id', u'146659565858'), ('user_name', u'slackbot'), ('bot_id', u'B4AMD95K6')])\n"
     ]
    },
    {
     "name": "stdout",
     "output_type": "stream",
     "text": [
      "[ec2-35-163-157-65.us-west-2.compute.amazonaws.com] out: "
     ]
    },
    {
     "name": "stdout",
     "output_type": "stream",
     "text": [
      "\n"
     ]
    },
    {
     "name": "stdout",
     "output_type": "stream",
     "text": [
      "[ec2-35-163-157-65.us-west-2.compute.amazonaws.com] out: "
     ]
    },
    {
     "name": "stdout",
     "output_type": "stream",
     "text": [
      "\n"
     ]
    },
    {
     "name": "stdout",
     "output_type": "stream",
     "text": [
      "[ec2-35-163-157-65.us-west-2.compute.amazonaws.com] out: "
     ]
    },
    {
     "name": "stdout",
     "output_type": "stream",
     "text": [
      "Message:\n"
     ]
    },
    {
     "name": "stdout",
     "output_type": "stream",
     "text": [
      "[ec2-35-163-157-65.us-west-2.compute.amazonaws.com] out: "
     ]
    },
    {
     "name": "stdout",
     "output_type": "stream",
     "text": [
      "slackbot in bot_chat says:  Responses in StackOverflow \n"
     ]
    },
    {
     "name": "stdout",
     "output_type": "stream",
     "text": [
      "[ec2-35-163-157-65.us-west-2.compute.amazonaws.com] out: "
     ]
    },
    {
     "name": "stdout",
     "output_type": "stream",
     "text": [
      "========REQUEST HANDLING COMPLETE========\n"
     ]
    },
    {
     "name": "stdout",
     "output_type": "stream",
     "text": [
      "[ec2-35-163-157-65.us-west-2.compute.amazonaws.com] out: "
     ]
    },
    {
     "name": "stdout",
     "output_type": "stream",
     "text": [
      "\n"
     ]
    },
    {
     "name": "stdout",
     "output_type": "stream",
     "text": [
      "[ec2-35-163-157-65.us-west-2.compute.amazonaws.com] out: "
     ]
    },
    {
     "name": "stdout",
     "output_type": "stream",
     "text": [
      "\n"
     ]
    },
    {
     "name": "stdout",
     "output_type": "stream",
     "text": [
      "[ec2-35-163-157-65.us-west-2.compute.amazonaws.com] out: "
     ]
    },
    {
     "name": "stdout",
     "output_type": "stream",
     "text": [
      "52.91.184.228 - - [05/Mar/2017 20:43:43] \"POST /slack HTTP/1.1\" 200 -"
     ]
    },
    {
     "name": "stdout",
     "output_type": "stream",
     "text": [
      "\n"
     ]
    },
    {
     "name": "stdout",
     "output_type": "stream",
     "text": [
      "[ec2-35-163-157-65.us-west-2.compute.amazonaws.com] out: "
     ]
    },
    {
     "name": "stdout",
     "output_type": "stream",
     "text": [
      "========POST REQUEST @ /slack=========\n"
     ]
    },
    {
     "name": "stdout",
     "output_type": "stream",
     "text": [
      "[ec2-35-163-157-65.us-west-2.compute.amazonaws.com] out: "
     ]
    },
    {
     "name": "stdout",
     "output_type": "stream",
     "text": [
      "FORM DATA RECEIVED IS:\n"
     ]
    },
    {
     "name": "stdout",
     "output_type": "stream",
     "text": [
      "[ec2-35-163-157-65.us-west-2.compute.amazonaws.com] out: "
     ]
    },
    {
     "name": "stdout",
     "output_type": "stream",
     "text": [
      "ImmutableMultiDict([('user_id', u'U4B9ZS27Q'), ('channel_id', u'C4B9ZV3SA'), ('timestamp', u'1488746629.971574'), ('token', u'9PbCyKAa0SIXMAJzaWDRRei2'), ('channel_name', u'bot_chat'), ('team_id', u'T4AKCH42W'), ('team_domain', u'sitbia660'), ('text', u'&lt;I_NEED_HELP_WITH_CODING&gt;: how to find duplicates in a list [python] [list]'), ('service_id', u'146659565858'), ('user_name', u'tinayliu163')])\n"
     ]
    },
    {
     "name": "stdout",
     "output_type": "stream",
     "text": [
      "[ec2-35-163-157-65.us-west-2.compute.amazonaws.com] out: "
     ]
    },
    {
     "name": "stdout",
     "output_type": "stream",
     "text": [
      "\n"
     ]
    },
    {
     "name": "stdout",
     "output_type": "stream",
     "text": [
      "[ec2-35-163-157-65.us-west-2.compute.amazonaws.com] out: "
     ]
    },
    {
     "name": "stdout",
     "output_type": "stream",
     "text": [
      "\n"
     ]
    },
    {
     "name": "stdout",
     "output_type": "stream",
     "text": [
      "[ec2-35-163-157-65.us-west-2.compute.amazonaws.com] out: "
     ]
    },
    {
     "name": "stdout",
     "output_type": "stream",
     "text": [
      "Message:\n"
     ]
    },
    {
     "name": "stdout",
     "output_type": "stream",
     "text": [
      "[ec2-35-163-157-65.us-west-2.compute.amazonaws.com] out: "
     ]
    },
    {
     "name": "stdout",
     "output_type": "stream",
     "text": [
      "tinayliu163 in bot_chat says: &lt;I_NEED_HELP_WITH_CODING&gt;: how to find duplicates in a list [python] [list]\n"
     ]
    },
    {
     "name": "stdout",
     "output_type": "stream",
     "text": [
      "[ec2-35-163-157-65.us-west-2.compute.amazonaws.com] out: "
     ]
    },
    {
     "name": "stdout",
     "output_type": "stream",
     "text": [
      "&lt;I_NEED_HELP_WITH_CODING&gt;: how to find duplicates in a list [python] [list]\t"
     ]
    },
    {
     "name": "stdout",
     "output_type": "stream",
     "text": [
      " printing task1\n"
     ]
    },
    {
     "name": "stdout",
     "output_type": "stream",
     "text": [
      "[ec2-35-163-157-65.us-west-2.compute.amazonaws.com] out: "
     ]
    },
    {
     "name": "stdout",
     "output_type": "stream",
     "text": [
      "Bot is responding to my question\n"
     ]
    },
    {
     "name": "stdout",
     "output_type": "stream",
     "text": [
      "[ec2-35-163-157-65.us-west-2.compute.amazonaws.com] out: "
     ]
    },
    {
     "name": "stdout",
     "output_type": "stream",
     "text": [
      "Fuk=ll Text:&lt;I_NEED_HELP_WITH_CODING&gt;: how to find duplicates in a list [python] [list]\n"
     ]
    },
    {
     "name": "stdout",
     "output_type": "stream",
     "text": [
      "[ec2-35-163-157-65.us-west-2.compute.amazonaws.com] out: "
     ]
    },
    {
     "name": "stdout",
     "output_type": "stream",
     "text": [
      "[u'&lt;I_NEED_HELP_WITH_CODING&gt;', u' how to find duplicates in a list [python] [list]']\n"
     ]
    },
    {
     "name": "stdout",
     "output_type": "stream",
     "text": [
      "[ec2-35-163-157-65.us-west-2.compute.amazonaws.com] out: "
     ]
    },
    {
     "name": "stdout",
     "output_type": "stream",
     "text": [
      "The question is : how to find duplicates in a list [python] [list]\n"
     ]
    },
    {
     "name": "stdout",
     "output_type": "stream",
     "text": [
      "[ec2-35-163-157-65.us-west-2.compute.amazonaws.com] out: "
     ]
    },
    {
     "name": "stdout",
     "output_type": "stream",
     "text": [
      "Response text set correctly\n"
     ]
    },
    {
     "name": "stdout",
     "output_type": "stream",
     "text": [
      "[ec2-35-163-157-65.us-west-2.compute.amazonaws.com] out: "
     ]
    },
    {
     "name": "stdout",
     "output_type": "stream",
     "text": [
      "[{'color': '#ff6e5d', 'text': u'<http://stackoverflow.com/questions/29733813/python-optimize-how-to-find-duplicate-value-and-value-index-in-a-list|Click to view!>  (4 Response)\\t Apr 19 2015', 'title': u'Python optimize how to find duplicate value and value index in a list'}, {'color': '#ff6e5d', 'text': u'<http://stackoverflow.com/questions/31047647/how-to-find-duplicates-in-a-python-list-that-are-adjacent-to-each-other-and-list|Click to view!>  (3 Response)\\t Jun 25 2015', 'title': u'How to find duplicates in a python list that are adjacent to each other and list them with respect to their indices?'}, {'color': '#ff6e5d', 'text': u'<http://stackoverflow.com/questions/19439718/how-to-remove-duplicates-in-a-python-list|Click to view!>  (4 Response)\\t Oct 18 2013', 'title': u'How to remove duplicates in a python list'}, {'color': '#ff6e5d', 'text': u'<http://stackoverflow.com/questions/28214895/find-duplicates-in-a-list-of-lists-with-tuples|Click to view!>  (1 Response)\\t Jan 29 2015', 'title': u'Find duplicates in a list of lists with tuples'}, {'color': '#ff6e5d', 'text': u'<http://stackoverflow.com/questions/32237981/how-to-find-2-items-in-a-list-that-are-the-same-in-python|Click to view!>  (2 Response)\\t Aug 26 2015', 'title': u'How to find 2 items in a list that are the same in Python'}]\n"
     ]
    },
    {
     "name": "stdout",
     "output_type": "stream",
     "text": [
      "[ec2-35-163-157-65.us-west-2.compute.amazonaws.com] out: "
     ]
    },
    {
     "name": "stdout",
     "output_type": "stream",
     "text": [
      "========REQUEST HANDLING COMPLETE========\n"
     ]
    },
    {
     "name": "stdout",
     "output_type": "stream",
     "text": [
      "[ec2-35-163-157-65.us-west-2.compute.amazonaws.com] out: "
     ]
    },
    {
     "name": "stdout",
     "output_type": "stream",
     "text": [
      "\n"
     ]
    },
    {
     "name": "stdout",
     "output_type": "stream",
     "text": [
      "[ec2-35-163-157-65.us-west-2.compute.amazonaws.com] out: "
     ]
    },
    {
     "name": "stdout",
     "output_type": "stream",
     "text": [
      "\n"
     ]
    },
    {
     "name": "stdout",
     "output_type": "stream",
     "text": [
      "[ec2-35-163-157-65.us-west-2.compute.amazonaws.com] out: "
     ]
    },
    {
     "name": "stdout",
     "output_type": "stream",
     "text": [
      "52.90.33.223 - - [05/Mar/2017 20:43:50] \"POST /slack HTTP/1.1\" 200 -\n"
     ]
    },
    {
     "name": "stdout",
     "output_type": "stream",
     "text": [
      "[ec2-35-163-157-65.us-west-2.compute.amazonaws.com] out: "
     ]
    },
    {
     "name": "stdout",
     "output_type": "stream",
     "text": [
      "========POST REQUEST @ /slack=========\n"
     ]
    },
    {
     "name": "stdout",
     "output_type": "stream",
     "text": [
      "[ec2-35-163-157-65.us-west-2.compute.amazonaws.com] out: "
     ]
    },
    {
     "name": "stdout",
     "output_type": "stream",
     "text": [
      "FORM DATA RECEIVED IS:\n"
     ]
    },
    {
     "name": "stdout",
     "output_type": "stream",
     "text": [
      "[ec2-35-163-157-65.us-west-2.compute.amazonaws.com] out: "
     ]
    },
    {
     "name": "stdout",
     "output_type": "stream",
     "text": [
      "ImmutableMultiDict([('user_id', u'USLACKBOT'), ('channel_id', u'C4B9ZV3SA'), ('timestamp', u'1488746630.971649'), ('token', u'9PbCyKAa0SIXMAJzaWDRRei2'), ('bot_name', u'tina_bot'), ('channel_name', u'bot_chat'), ('team_id', u'T4AKCH42W'), ('team_domain', u'sitbia660'), ('text', u' Responses in StackOverflow '), ('service_id', u'146659565858'), ('user_name', u'slackbot'), ('bot_id', u'B4AMD95K6')])\n"
     ]
    },
    {
     "name": "stdout",
     "output_type": "stream",
     "text": [
      "[ec2-35-163-157-65.us-west-2.compute.amazonaws.com] out: "
     ]
    },
    {
     "name": "stdout",
     "output_type": "stream",
     "text": [
      "\n"
     ]
    },
    {
     "name": "stdout",
     "output_type": "stream",
     "text": [
      "[ec2-35-163-157-65.us-west-2.compute.amazonaws.com] out: "
     ]
    },
    {
     "name": "stdout",
     "output_type": "stream",
     "text": [
      "\n"
     ]
    },
    {
     "name": "stdout",
     "output_type": "stream",
     "text": [
      "[ec2-35-163-157-65.us-west-2.compute.amazonaws.com] out: "
     ]
    },
    {
     "name": "stdout",
     "output_type": "stream",
     "text": [
      "Message:\n"
     ]
    },
    {
     "name": "stdout",
     "output_type": "stream",
     "text": [
      "[ec2-35-163-157-65.us-west-2.compute.amazonaws.com] out: "
     ]
    },
    {
     "name": "stdout",
     "output_type": "stream",
     "text": [
      "slackbot in bot_chat says:  Responses in StackOverflow \n"
     ]
    },
    {
     "name": "stdout",
     "output_type": "stream",
     "text": [
      "[ec2-35-163-157-65.us-west-2.compute.amazonaws.com] out: "
     ]
    },
    {
     "name": "stdout",
     "output_type": "stream",
     "text": [
      "========REQUEST HANDLING COMPLETE========\n"
     ]
    },
    {
     "name": "stdout",
     "output_type": "stream",
     "text": [
      "[ec2-35-163-157-65.us-west-2.compute.amazonaws.com] out: "
     ]
    },
    {
     "name": "stdout",
     "output_type": "stream",
     "text": [
      "\n"
     ]
    },
    {
     "name": "stdout",
     "output_type": "stream",
     "text": [
      "[ec2-35-163-157-65.us-west-2.compute.amazonaws.com] out: "
     ]
    },
    {
     "name": "stdout",
     "output_type": "stream",
     "text": [
      "\n"
     ]
    },
    {
     "name": "stdout",
     "output_type": "stream",
     "text": [
      "[ec2-35-163-157-65.us-west-2.compute.amazonaws.com] out: "
     ]
    },
    {
     "name": "stdout",
     "output_type": "stream",
     "text": [
      "52.54.222.230 - - [05/Mar/2017 20:43:50] \"POST /slack HTTP/1.1\" 200 -\n"
     ]
    },
    {
     "name": "stdout",
     "output_type": "stream",
     "text": [
      "[ec2-35-163-157-65.us-west-2.compute.amazonaws.com] out: "
     ]
    },
    {
     "name": "stdout",
     "output_type": "stream",
     "text": [
      "========POST REQUEST @ /slack=========\n"
     ]
    },
    {
     "name": "stdout",
     "output_type": "stream",
     "text": [
      "[ec2-35-163-157-65.us-west-2.compute.amazonaws.com] out: "
     ]
    },
    {
     "name": "stdout",
     "output_type": "stream",
     "text": [
      "FORM DATA RECEIVED IS:\n"
     ]
    },
    {
     "name": "stdout",
     "output_type": "stream",
     "text": [
      "[ec2-35-163-157-65.us-west-2.compute.amazonaws.com] out: "
     ]
    },
    {
     "name": "stdout",
     "output_type": "stream",
     "text": [
      "ImmutableMultiDict([('user_id', u'U4B9ZS27Q'), ('channel_id', u'C4B9ZV3SA'), ('timestamp', u'1488746677.972653'), ('token', u'9PbCyKAa0SIXMAJzaWDRRei2'), ('channel_name', u'bot_chat'), ('team_id', u'T4AKCH42W'), ('team_domain', u'sitbia660'), ('text', u\"&lt;WHAT'S_THE_WEATHER_LIKE_AT&gt;: Tokyo\"), ('service_id', u'146659565858'), ('user_name', u'tinayliu163')])\n"
     ]
    },
    {
     "name": "stdout",
     "output_type": "stream",
     "text": [
      "[ec2-35-163-157-65.us-west-2.compute.amazonaws.com] out: "
     ]
    },
    {
     "name": "stdout",
     "output_type": "stream",
     "text": [
      "\n"
     ]
    },
    {
     "name": "stdout",
     "output_type": "stream",
     "text": [
      "[ec2-35-163-157-65.us-west-2.compute.amazonaws.com] out: "
     ]
    },
    {
     "name": "stdout",
     "output_type": "stream",
     "text": [
      "\n"
     ]
    },
    {
     "name": "stdout",
     "output_type": "stream",
     "text": [
      "[ec2-35-163-157-65.us-west-2.compute.amazonaws.com] out: "
     ]
    },
    {
     "name": "stdout",
     "output_type": "stream",
     "text": [
      "Message:\n"
     ]
    },
    {
     "name": "stdout",
     "output_type": "stream",
     "text": [
      "[ec2-35-163-157-65.us-west-2.compute.amazonaws.com] out: "
     ]
    },
    {
     "name": "stdout",
     "output_type": "stream",
     "text": [
      "tinayliu163 in bot_chat says: &lt;WHAT'S_THE_WEATHER_LIKE_AT&gt;: Tokyo\n"
     ]
    },
    {
     "name": "stdout",
     "output_type": "stream",
     "text": [
      "[ec2-35-163-157-65.us-west-2.compute.amazonaws.com] out: "
     ]
    },
    {
     "name": "stdout",
     "output_type": "stream",
     "text": [
      "&lt;WHAT'S_THE_WEATHER_LIKE_AT&gt;: Tokyo\t printing task1\n"
     ]
    },
    {
     "name": "stdout",
     "output_type": "stream",
     "text": [
      "[ec2-35-163-157-65.us-west-2.compute.amazonaws.com] out: "
     ]
    },
    {
     "name": "stdout",
     "output_type": "stream",
     "text": [
      "Bot is responding to my question\n"
     ]
    },
    {
     "name": "stdout",
     "output_type": "stream",
     "text": [
      "[ec2-35-163-157-65.us-west-2.compute.amazonaws.com] out: "
     ]
    },
    {
     "name": "stdout",
     "output_type": "stream",
     "text": [
      "Fuk=ll Text:&lt;WHAT'S_THE_WEATHER_LIKE_AT&gt;: Tokyo\n"
     ]
    },
    {
     "name": "stdout",
     "output_type": "stream",
     "text": [
      "[ec2-35-163-157-65.us-west-2.compute.amazonaws.com] out: "
     ]
    },
    {
     "name": "stdout",
     "output_type": "stream",
     "text": [
      "[u\"&lt;WHAT'S_THE_WEATHER_LIKE_AT&gt;\", u' Tokyo']\n"
     ]
    },
    {
     "name": "stdout",
     "output_type": "stream",
     "text": [
      "[ec2-35-163-157-65.us-west-2.compute.amazonaws.com] out: "
     ]
    },
    {
     "name": "stdout",
     "output_type": "stream",
     "text": [
      "The address is : Tokyo\n"
     ]
    },
    {
     "name": "stdout",
     "output_type": "stream",
     "text": [
      "[ec2-35-163-157-65.us-west-2.compute.amazonaws.com] out: "
     ]
    },
    {
     "name": "stdout",
     "output_type": "stream",
     "text": [
      "========REQUEST HANDLING COMPLETE========\n"
     ]
    },
    {
     "name": "stdout",
     "output_type": "stream",
     "text": [
      "[ec2-35-163-157-65.us-west-2.compute.amazonaws.com] out: "
     ]
    },
    {
     "name": "stdout",
     "output_type": "stream",
     "text": [
      "\n"
     ]
    },
    {
     "name": "stdout",
     "output_type": "stream",
     "text": [
      "[ec2-35-163-157-65.us-west-2.compute.amazonaws.com] out: "
     ]
    },
    {
     "name": "stdout",
     "output_type": "stream",
     "text": [
      "\n"
     ]
    },
    {
     "name": "stdout",
     "output_type": "stream",
     "text": [
      "[ec2-35-163-157-65.us-west-2.compute.amazonaws.com] out: "
     ]
    },
    {
     "name": "stdout",
     "output_type": "stream",
     "text": [
      "54.209.231.248 - - [05/Mar/2017 20:44:40] \"POST /slack HTTP/1.1\" 200 -\n"
     ]
    },
    {
     "name": "stdout",
     "output_type": "stream",
     "text": [
      "[ec2-35-163-157-65.us-west-2.compute.amazonaws.com] out: "
     ]
    },
    {
     "name": "stdout",
     "output_type": "stream",
     "text": [
      "========POST REQUEST @ /slack=========\n"
     ]
    },
    {
     "name": "stdout",
     "output_type": "stream",
     "text": [
      "[ec2-35-163-157-65.us-west-2.compute.amazonaws.com] out: "
     ]
    },
    {
     "name": "stdout",
     "output_type": "stream",
     "text": [
      "FORM DATA RECEIVED IS:\n"
     ]
    },
    {
     "name": "stdout",
     "output_type": "stream",
     "text": [
      "[ec2-35-163-157-65.us-west-2.compute.amazonaws.com] out: "
     ]
    },
    {
     "name": "stdout",
     "output_type": "stream",
     "text": [
      "ImmutableMultiDict([('user_id', u'USLACKBOT'), ('channel_id', u'C4B9ZV3SA'), ('timestamp', u'1488746680.972699'), ('token', u'9PbCyKAa0SIXMAJzaWDRRei2'), ('bot_name', u'tina_bot'), ('channel_name', u'bot_chat'), ('team_id', u'T4AKCH42W'), ('team_domain', u'sitbia660'), ('text', u' Weather condition '), ('service_id', u'146659565858'), ('user_name', u'slackbot'), ('bot_id', u'B4AMD95K6')])\n"
     ]
    },
    {
     "name": "stdout",
     "output_type": "stream",
     "text": [
      "[ec2-35-163-157-65.us-west-2.compute.amazonaws.com] out: "
     ]
    },
    {
     "name": "stdout",
     "output_type": "stream",
     "text": [
      "\n"
     ]
    },
    {
     "name": "stdout",
     "output_type": "stream",
     "text": [
      "[ec2-35-163-157-65.us-west-2.compute.amazonaws.com] out: "
     ]
    },
    {
     "name": "stdout",
     "output_type": "stream",
     "text": [
      "\n"
     ]
    },
    {
     "name": "stdout",
     "output_type": "stream",
     "text": [
      "[ec2-35-163-157-65.us-west-2.compute.amazonaws.com] out: "
     ]
    },
    {
     "name": "stdout",
     "output_type": "stream",
     "text": [
      "Message:\n"
     ]
    },
    {
     "name": "stdout",
     "output_type": "stream",
     "text": [
      "[ec2-35-163-157-65.us-west-2.compute.amazonaws.com] out: "
     ]
    },
    {
     "name": "stdout",
     "output_type": "stream",
     "text": [
      "slackbot in bot_chat says:  Weather condition \n"
     ]
    },
    {
     "name": "stdout",
     "output_type": "stream",
     "text": [
      "[ec2-35-163-157-65.us-west-2.compute.amazonaws.com] out: "
     ]
    },
    {
     "name": "stdout",
     "output_type": "stream",
     "text": [
      "========REQUEST HANDLING COMPLETE========\n"
     ]
    },
    {
     "name": "stdout",
     "output_type": "stream",
     "text": [
      "[ec2-35-163-157-65.us-west-2.compute.amazonaws.com] out: "
     ]
    },
    {
     "name": "stdout",
     "output_type": "stream",
     "text": [
      "\n"
     ]
    },
    {
     "name": "stdout",
     "output_type": "stream",
     "text": [
      "[ec2-35-163-157-65.us-west-2.compute.amazonaws.com] out: "
     ]
    },
    {
     "name": "stdout",
     "output_type": "stream",
     "text": [
      "\n"
     ]
    },
    {
     "name": "stdout",
     "output_type": "stream",
     "text": [
      "[ec2-35-163-157-65.us-west-2.compute.amazonaws.com] out: "
     ]
    },
    {
     "name": "stdout",
     "output_type": "stream",
     "text": [
      "52.91.184.228 - - [05/Mar/2017 20:44:40] \"POST /slack HTTP/1.1\" 200 -\n"
     ]
    },
    {
     "name": "stdout",
     "output_type": "stream",
     "text": [
      "[ec2-35-163-157-65.us-west-2.compute.amazonaws.com] out: "
     ]
    },
    {
     "name": "stdout",
     "output_type": "stream",
     "text": [
      "========POST REQUEST @ /slack=========\n"
     ]
    },
    {
     "name": "stdout",
     "output_type": "stream",
     "text": [
      "[ec2-35-163-157-65.us-west-2.compute.amazonaws.com] out: "
     ]
    },
    {
     "name": "stdout",
     "output_type": "stream",
     "text": [
      "FORM DATA RECEIVED IS:\n"
     ]
    },
    {
     "name": "stdout",
     "output_type": "stream",
     "text": [
      "[ec2-35-163-157-65.us-west-2.compute.amazonaws.com] out: "
     ]
    },
    {
     "name": "stdout",
     "output_type": "stream",
     "text": [
      "ImmutableMultiDict([('user_id', u'U4B9ZS27Q'), ('channel_id', u'C4B9ZV3SA'), ('timestamp', u'1488746704.973320'), ('token', u'9PbCyKAa0SIXMAJzaWDRRei2'), ('channel_name', u'bot_chat'), ('team_id', u'T4AKCH42W'), ('team_domain', u'sitbia660'), ('text', u\"&lt;WHAT'S_THE_WEATHER_LIKE_AT&gt;: Shanghai\"), ('service_id', u'146659565858'), ('user_name', u'tinayliu163')])\n"
     ]
    },
    {
     "name": "stdout",
     "output_type": "stream",
     "text": [
      "[ec2-35-163-157-65.us-west-2.compute.amazonaws.com] out: "
     ]
    },
    {
     "name": "stdout",
     "output_type": "stream",
     "text": [
      "\n"
     ]
    },
    {
     "name": "stdout",
     "output_type": "stream",
     "text": [
      "[ec2-35-163-157-65.us-west-2.compute.amazonaws.com] out: "
     ]
    },
    {
     "name": "stdout",
     "output_type": "stream",
     "text": [
      "\n"
     ]
    },
    {
     "name": "stdout",
     "output_type": "stream",
     "text": [
      "[ec2-35-163-157-65.us-west-2.compute.amazonaws.com] out: "
     ]
    },
    {
     "name": "stdout",
     "output_type": "stream",
     "text": [
      "Message:\n"
     ]
    },
    {
     "name": "stdout",
     "output_type": "stream",
     "text": [
      "[ec2-35-163-157-65.us-west-2.compute.amazonaws.com] out: "
     ]
    },
    {
     "name": "stdout",
     "output_type": "stream",
     "text": [
      "tinayliu163 in bot_chat says: &lt;WHAT'S_THE_WEATHER_LIKE_AT&gt;: Shanghai\n"
     ]
    },
    {
     "name": "stdout",
     "output_type": "stream",
     "text": [
      "[ec2-35-163-157-65.us-west-2.compute.amazonaws.com] out: "
     ]
    },
    {
     "name": "stdout",
     "output_type": "stream",
     "text": [
      "&lt;WHAT'S_THE_WEATHER_LIKE_AT&gt;: Shanghai\t printing task1\n"
     ]
    },
    {
     "name": "stdout",
     "output_type": "stream",
     "text": [
      "[ec2-35-163-157-65.us-west-2.compute.amazonaws.com] out: "
     ]
    },
    {
     "name": "stdout",
     "output_type": "stream",
     "text": [
      "Bot is responding to my question\n"
     ]
    },
    {
     "name": "stdout",
     "output_type": "stream",
     "text": [
      "[ec2-35-163-157-65.us-west-2.compute.amazonaws.com] out: "
     ]
    },
    {
     "name": "stdout",
     "output_type": "stream",
     "text": [
      "Fuk=ll Text:&lt;WHAT'S_THE_WEATHER_LIKE_AT&gt;: Shanghai\n"
     ]
    },
    {
     "name": "stdout",
     "output_type": "stream",
     "text": [
      "[ec2-35-163-157-65.us-west-2.compute.amazonaws.com] out: "
     ]
    },
    {
     "name": "stdout",
     "output_type": "stream",
     "text": [
      "[u\"&lt;WHAT'S_THE_WEATHER_LIKE_AT&gt;\", u' Shanghai']\n"
     ]
    },
    {
     "name": "stdout",
     "output_type": "stream",
     "text": [
      "[ec2-35-163-157-65.us-west-2.compute.amazonaws.com] out: "
     ]
    },
    {
     "name": "stdout",
     "output_type": "stream",
     "text": [
      "The address is : Shanghai\n"
     ]
    },
    {
     "name": "stdout",
     "output_type": "stream",
     "text": [
      "[ec2-35-163-157-65.us-west-2.compute.amazonaws.com] out: "
     ]
    },
    {
     "name": "stdout",
     "output_type": "stream",
     "text": [
      "========REQUEST HANDLING COMPLETE========\n"
     ]
    },
    {
     "name": "stdout",
     "output_type": "stream",
     "text": [
      "[ec2-35-163-157-65.us-west-2.compute.amazonaws.com] out: "
     ]
    },
    {
     "name": "stdout",
     "output_type": "stream",
     "text": [
      "\n"
     ]
    },
    {
     "name": "stdout",
     "output_type": "stream",
     "text": [
      "[ec2-35-163-157-65.us-west-2.compute.amazonaws.com] out: "
     ]
    },
    {
     "name": "stdout",
     "output_type": "stream",
     "text": [
      "\n"
     ]
    },
    {
     "name": "stdout",
     "output_type": "stream",
     "text": [
      "[ec2-35-163-157-65.us-west-2.compute.amazonaws.com] out: "
     ]
    },
    {
     "name": "stdout",
     "output_type": "stream",
     "text": [
      "54.89.92.4 - - [05/Mar/2017 20:45:06] \"POST /slack HTTP/1.1\" 200 -\n"
     ]
    },
    {
     "name": "stdout",
     "output_type": "stream",
     "text": [
      "[ec2-35-163-157-65.us-west-2.compute.amazonaws.com] out: "
     ]
    },
    {
     "name": "stdout",
     "output_type": "stream",
     "text": [
      "========POST REQUEST @ /slack=========\n"
     ]
    },
    {
     "name": "stdout",
     "output_type": "stream",
     "text": [
      "[ec2-35-163-157-65.us-west-2.compute.amazonaws.com] out: "
     ]
    },
    {
     "name": "stdout",
     "output_type": "stream",
     "text": [
      "FORM DATA RECEIVED IS:\n"
     ]
    },
    {
     "name": "stdout",
     "output_type": "stream",
     "text": [
      "[ec2-35-163-157-65.us-west-2.compute.amazonaws.com] out: "
     ]
    },
    {
     "name": "stdout",
     "output_type": "stream",
     "text": [
      "ImmutableMultiDict([('user_id', u'USLACKBOT'), ('channel_id', u'C4B9ZV3SA'), ('timestamp', u'1488746706.973360'), ('token', u'9PbCyKAa0SIXMAJzaWDRRei2'), ('bot_name', u'tina_bot'), ('channel_name', u'bot_chat'), ('team_id', u'T4AKCH42W'), ('team_domain', u'sitbia660'), ('text', u' Weather condition '), ('service_id', u'146659565858'), ('user_name', u'slackbot'), ('bot_id', u'B4AMD95K6')])"
     ]
    },
    {
     "name": "stdout",
     "output_type": "stream",
     "text": [
      "\n"
     ]
    },
    {
     "name": "stdout",
     "output_type": "stream",
     "text": [
      "[ec2-35-163-157-65.us-west-2.compute.amazonaws.com] out: "
     ]
    },
    {
     "name": "stdout",
     "output_type": "stream",
     "text": [
      "\n"
     ]
    },
    {
     "name": "stdout",
     "output_type": "stream",
     "text": [
      "[ec2-35-163-157-65.us-west-2.compute.amazonaws.com] out: "
     ]
    },
    {
     "name": "stdout",
     "output_type": "stream",
     "text": [
      "\n"
     ]
    },
    {
     "name": "stdout",
     "output_type": "stream",
     "text": [
      "[ec2-35-163-157-65.us-west-2.compute.amazonaws.com] out: "
     ]
    },
    {
     "name": "stdout",
     "output_type": "stream",
     "text": [
      "Message:\n"
     ]
    },
    {
     "name": "stdout",
     "output_type": "stream",
     "text": [
      "[ec2-35-163-157-65.us-west-2.compute.amazonaws.com] out: "
     ]
    },
    {
     "name": "stdout",
     "output_type": "stream",
     "text": [
      "slackbot in bot_chat says:  Weather condition \n"
     ]
    },
    {
     "name": "stdout",
     "output_type": "stream",
     "text": [
      "[ec2-35-163-157-65.us-west-2.compute.amazonaws.com] out: "
     ]
    },
    {
     "name": "stdout",
     "output_type": "stream",
     "text": [
      "========REQUEST HANDLING COMPLETE========\n"
     ]
    },
    {
     "name": "stdout",
     "output_type": "stream",
     "text": [
      "[ec2-35-163-157-65.us-west-2.compute.amazonaws.com] out: "
     ]
    },
    {
     "name": "stdout",
     "output_type": "stream",
     "text": [
      "\n"
     ]
    },
    {
     "name": "stdout",
     "output_type": "stream",
     "text": [
      "[ec2-35-163-157-65.us-west-2.compute.amazonaws.com] out: "
     ]
    },
    {
     "name": "stdout",
     "output_type": "stream",
     "text": [
      "\n"
     ]
    },
    {
     "name": "stdout",
     "output_type": "stream",
     "text": [
      "[ec2-35-163-157-65.us-west-2.compute.amazonaws.com] out: "
     ]
    },
    {
     "name": "stdout",
     "output_type": "stream",
     "text": [
      "52.91.184.228 - - [05/Mar/2017 20:45:06] \"POST /slack HTTP/1.1\" 200 -"
     ]
    },
    {
     "name": "stdout",
     "output_type": "stream",
     "text": [
      "\n"
     ]
    },
    {
     "name": "stdout",
     "output_type": "stream",
     "text": [
      "[ec2-35-163-157-65.us-west-2.compute.amazonaws.com] out: "
     ]
    },
    {
     "name": "stdout",
     "output_type": "stream",
     "text": [
      "========POST REQUEST @ /slack=========\n"
     ]
    },
    {
     "name": "stdout",
     "output_type": "stream",
     "text": [
      "[ec2-35-163-157-65.us-west-2.compute.amazonaws.com] out: "
     ]
    },
    {
     "name": "stdout",
     "output_type": "stream",
     "text": [
      "FORM DATA RECEIVED IS:\n"
     ]
    },
    {
     "name": "stdout",
     "output_type": "stream",
     "text": [
      "[ec2-35-163-157-65.us-west-2.compute.amazonaws.com] out: "
     ]
    },
    {
     "name": "stdout",
     "output_type": "stream",
     "text": [
      "ImmutableMultiDict([('user_id', u'U4B9ZS27Q'), ('channel_id', u'C4B9ZV3SA'), ('timestamp', u'1488746740.974354'), ('token', u'9PbCyKAa0SIXMAJzaWDRRei2'), ('channel_name', u'bot_chat'), ('team_id', u'T4AKCH42W'), ('team_domain', u'sitbia660'), ('text', u\"&lt;WHAT'S_THE_WEATHER_LIKE_AT&gt;: San Francisco\"), ('service_id', u'146659565858'), ('user_name', u'tinayliu163')])\n"
     ]
    },
    {
     "name": "stdout",
     "output_type": "stream",
     "text": [
      "[ec2-35-163-157-65.us-west-2.compute.amazonaws.com] out: "
     ]
    },
    {
     "name": "stdout",
     "output_type": "stream",
     "text": [
      "\n"
     ]
    },
    {
     "name": "stdout",
     "output_type": "stream",
     "text": [
      "[ec2-35-163-157-65.us-west-2.compute.amazonaws.com] out: "
     ]
    },
    {
     "name": "stdout",
     "output_type": "stream",
     "text": [
      "\n"
     ]
    },
    {
     "name": "stdout",
     "output_type": "stream",
     "text": [
      "[ec2-35-163-157-65.us-west-2.compute.amazonaws.com] out: "
     ]
    },
    {
     "name": "stdout",
     "output_type": "stream",
     "text": [
      "Message:\n"
     ]
    },
    {
     "name": "stdout",
     "output_type": "stream",
     "text": [
      "[ec2-35-163-157-65.us-west-2.compute.amazonaws.com] out: "
     ]
    },
    {
     "name": "stdout",
     "output_type": "stream",
     "text": [
      "tinayliu163 in bot_chat says: &lt;WHAT'S_THE_WEATHER_LIKE_AT&gt;: San Francisco\n"
     ]
    },
    {
     "name": "stdout",
     "output_type": "stream",
     "text": [
      "[ec2-35-163-157-65.us-west-2.compute.amazonaws.com] out: "
     ]
    },
    {
     "name": "stdout",
     "output_type": "stream",
     "text": [
      "&lt;WHAT'S_THE_WEATHER_LIKE_AT&gt;: San Francisco\t printing task1\n"
     ]
    },
    {
     "name": "stdout",
     "output_type": "stream",
     "text": [
      "[ec2-35-163-157-65.us-west-2.compute.amazonaws.com] out: "
     ]
    },
    {
     "name": "stdout",
     "output_type": "stream",
     "text": [
      "Bot is responding to my question\n"
     ]
    },
    {
     "name": "stdout",
     "output_type": "stream",
     "text": [
      "[ec2-35-163-157-65.us-west-2.compute.amazonaws.com] out: "
     ]
    },
    {
     "name": "stdout",
     "output_type": "stream",
     "text": [
      "Fuk=ll Text:&lt;WHAT'S_THE_WEATHER_LIKE_AT&gt;: San Francisco"
     ]
    },
    {
     "name": "stdout",
     "output_type": "stream",
     "text": [
      "\n"
     ]
    },
    {
     "name": "stdout",
     "output_type": "stream",
     "text": [
      "[ec2-35-163-157-65.us-west-2.compute.amazonaws.com] out: "
     ]
    },
    {
     "name": "stdout",
     "output_type": "stream",
     "text": [
      "[u\"&lt;WHAT'S_THE_WEATHER_LIKE_AT&gt;\", u' San Francisco']\n"
     ]
    },
    {
     "name": "stdout",
     "output_type": "stream",
     "text": [
      "[ec2-35-163-157-65.us-west-2.compute.amazonaws.com] out: "
     ]
    },
    {
     "name": "stdout",
     "output_type": "stream",
     "text": [
      "The address is : San Francisco\n"
     ]
    },
    {
     "name": "stdout",
     "output_type": "stream",
     "text": [
      "[ec2-35-163-157-65.us-west-2.compute.amazonaws.com] out: "
     ]
    },
    {
     "name": "stdout",
     "output_type": "stream",
     "text": [
      "========REQUEST HANDLING COMPLETE========\n"
     ]
    },
    {
     "name": "stdout",
     "output_type": "stream",
     "text": [
      "[ec2-35-163-157-65.us-west-2.compute.amazonaws.com] out: "
     ]
    },
    {
     "name": "stdout",
     "output_type": "stream",
     "text": [
      "\n"
     ]
    },
    {
     "name": "stdout",
     "output_type": "stream",
     "text": [
      "[ec2-35-163-157-65.us-west-2.compute.amazonaws.com] out: "
     ]
    },
    {
     "name": "stdout",
     "output_type": "stream",
     "text": [
      "\n"
     ]
    },
    {
     "name": "stdout",
     "output_type": "stream",
     "text": [
      "[ec2-35-163-157-65.us-west-2.compute.amazonaws.com] out: "
     ]
    },
    {
     "name": "stdout",
     "output_type": "stream",
     "text": [
      "52.91.184.228 - - [05/Mar/2017 20:45:50] \"POST /slack HTTP/1.1\" 200 -\n"
     ]
    },
    {
     "name": "stdout",
     "output_type": "stream",
     "text": [
      "[ec2-35-163-157-65.us-west-2.compute.amazonaws.com] out: "
     ]
    },
    {
     "name": "stdout",
     "output_type": "stream",
     "text": [
      "========POST REQUEST @ /slack=========\n"
     ]
    },
    {
     "name": "stdout",
     "output_type": "stream",
     "text": [
      "[ec2-35-163-157-65.us-west-2.compute.amazonaws.com] out: "
     ]
    },
    {
     "name": "stdout",
     "output_type": "stream",
     "text": [
      "FORM DATA RECEIVED IS:\n"
     ]
    },
    {
     "name": "stdout",
     "output_type": "stream",
     "text": [
      "[ec2-35-163-157-65.us-west-2.compute.amazonaws.com] out: "
     ]
    },
    {
     "name": "stdout",
     "output_type": "stream",
     "text": [
      "ImmutableMultiDict([('user_id', u'USLACKBOT'), ('channel_id', u'C4B9ZV3SA'), ('timestamp', u'1488746750.975279'), ('token', u'9PbCyKAa0SIXMAJzaWDRRei2'), ('bot_name', u'tina_bot'), ('channel_name', u'bot_chat'), ('team_id', u'T4AKCH42W'), ('team_domain', u'sitbia660'), ('text', u' Weather condition '), ('service_id', u'146659565858'), ('user_name', u'slackbot'), ('bot_id', u'B4AMD95K6')])\n"
     ]
    },
    {
     "name": "stdout",
     "output_type": "stream",
     "text": [
      "[ec2-35-163-157-65.us-west-2.compute.amazonaws.com] out: "
     ]
    },
    {
     "name": "stdout",
     "output_type": "stream",
     "text": [
      "\n"
     ]
    },
    {
     "name": "stdout",
     "output_type": "stream",
     "text": [
      "[ec2-35-163-157-65.us-west-2.compute.amazonaws.com] out: "
     ]
    },
    {
     "name": "stdout",
     "output_type": "stream",
     "text": [
      "\n"
     ]
    },
    {
     "name": "stdout",
     "output_type": "stream",
     "text": [
      "[ec2-35-163-157-65.us-west-2.compute.amazonaws.com] out: "
     ]
    },
    {
     "name": "stdout",
     "output_type": "stream",
     "text": [
      "Message:\n"
     ]
    },
    {
     "name": "stdout",
     "output_type": "stream",
     "text": [
      "[ec2-35-163-157-65.us-west-2.compute.amazonaws.com] out: "
     ]
    },
    {
     "name": "stdout",
     "output_type": "stream",
     "text": [
      "slackbot in bot_chat says:  Weather condition \n"
     ]
    },
    {
     "name": "stdout",
     "output_type": "stream",
     "text": [
      "[ec2-35-163-157-65.us-west-2.compute.amazonaws.com] out: "
     ]
    },
    {
     "name": "stdout",
     "output_type": "stream",
     "text": [
      "========REQUEST HANDLING COMPLETE========\n"
     ]
    },
    {
     "name": "stdout",
     "output_type": "stream",
     "text": [
      "[ec2-35-163-157-65.us-west-2.compute.amazonaws.com] out: "
     ]
    },
    {
     "name": "stdout",
     "output_type": "stream",
     "text": [
      "\n"
     ]
    },
    {
     "name": "stdout",
     "output_type": "stream",
     "text": [
      "[ec2-35-163-157-65.us-west-2.compute.amazonaws.com] out: "
     ]
    },
    {
     "name": "stdout",
     "output_type": "stream",
     "text": [
      "\n"
     ]
    },
    {
     "name": "stdout",
     "output_type": "stream",
     "text": [
      "[ec2-35-163-157-65.us-west-2.compute.amazonaws.com] out: "
     ]
    },
    {
     "name": "stdout",
     "output_type": "stream",
     "text": [
      "52.91.184.228 - - [05/Mar/2017 20:45:50] \"POST /slack HTTP/1.1\" 200 -"
     ]
    },
    {
     "name": "stdout",
     "output_type": "stream",
     "text": [
      "\n"
     ]
    },
    {
     "name": "stdout",
     "output_type": "stream",
     "text": [
      "[ec2-35-163-157-65.us-west-2.compute.amazonaws.com] out: "
     ]
    },
    {
     "name": "stdout",
     "output_type": "stream",
     "text": [
      "========POST REQUEST @ /slack=========\n"
     ]
    },
    {
     "name": "stdout",
     "output_type": "stream",
     "text": [
      "[ec2-35-163-157-65.us-west-2.compute.amazonaws.com] out: "
     ]
    },
    {
     "name": "stdout",
     "output_type": "stream",
     "text": [
      "FORM DATA RECEIVED IS:\n"
     ]
    },
    {
     "name": "stdout",
     "output_type": "stream",
     "text": [
      "[ec2-35-163-157-65.us-west-2.compute.amazonaws.com] out: "
     ]
    },
    {
     "name": "stdout",
     "output_type": "stream",
     "text": [
      "ImmutableMultiDict([('user_id', u'U4AR0RMB7'), ('channel_id', u'C4B9ZV3SA'), ('timestamp', u'1488746759.976435'), ('token', u'9PbCyKAa0SIXMAJzaWDRRei2'), ('channel_name', u'bot_chat'), ('team_id', u'T4AKCH42W'), ('team_domain', u'sitbia660'), ('text', u\"&lt;WHAT'S_THE_WEATHER_LIKE_AT&gt;: San Francisco\"), ('service_id', u'146659565858'), ('user_name', u'rong')])\n"
     ]
    },
    {
     "name": "stdout",
     "output_type": "stream",
     "text": [
      "[ec2-35-163-157-65.us-west-2.compute.amazonaws.com] out: "
     ]
    },
    {
     "name": "stdout",
     "output_type": "stream",
     "text": [
      "\n"
     ]
    },
    {
     "name": "stdout",
     "output_type": "stream",
     "text": [
      "[ec2-35-163-157-65.us-west-2.compute.amazonaws.com] out: "
     ]
    },
    {
     "name": "stdout",
     "output_type": "stream",
     "text": [
      "\n"
     ]
    },
    {
     "name": "stdout",
     "output_type": "stream",
     "text": [
      "[ec2-35-163-157-65.us-west-2.compute.amazonaws.com] out: "
     ]
    },
    {
     "name": "stdout",
     "output_type": "stream",
     "text": [
      "Message:\n"
     ]
    },
    {
     "name": "stdout",
     "output_type": "stream",
     "text": [
      "[ec2-35-163-157-65.us-west-2.compute.amazonaws.com] out: "
     ]
    },
    {
     "name": "stdout",
     "output_type": "stream",
     "text": [
      "rong in bot_chat says: &lt;WHAT'S_THE_WEATHER_LIKE_AT&gt;: San Francisco\n"
     ]
    },
    {
     "name": "stdout",
     "output_type": "stream",
     "text": [
      "[ec2-35-163-157-65.us-west-2.compute.amazonaws.com] out: "
     ]
    },
    {
     "name": "stdout",
     "output_type": "stream",
     "text": [
      "========REQUEST HANDLING COMPLETE========\n"
     ]
    },
    {
     "name": "stdout",
     "output_type": "stream",
     "text": [
      "[ec2-35-163-157-65.us-west-2.compute.amazonaws.com] out: "
     ]
    },
    {
     "name": "stdout",
     "output_type": "stream",
     "text": [
      "\n"
     ]
    },
    {
     "name": "stdout",
     "output_type": "stream",
     "text": [
      "[ec2-35-163-157-65.us-west-2.compute.amazonaws.com] out: "
     ]
    },
    {
     "name": "stdout",
     "output_type": "stream",
     "text": [
      "\n"
     ]
    },
    {
     "name": "stdout",
     "output_type": "stream",
     "text": [
      "[ec2-35-163-157-65.us-west-2.compute.amazonaws.com] out: "
     ]
    },
    {
     "name": "stdout",
     "output_type": "stream",
     "text": [
      "54.174.114.150 - - [05/Mar/2017 20:46:00] \"POST /slack HTTP/1.1\" 200 -\n"
     ]
    },
    {
     "name": "stdout",
     "output_type": "stream",
     "text": [
      "[ec2-35-163-157-65.us-west-2.compute.amazonaws.com] out: "
     ]
    },
    {
     "name": "stdout",
     "output_type": "stream",
     "text": [
      "========POST REQUEST @ /slack========="
     ]
    },
    {
     "name": "stdout",
     "output_type": "stream",
     "text": [
      "\n"
     ]
    },
    {
     "name": "stdout",
     "output_type": "stream",
     "text": [
      "[ec2-35-163-157-65.us-west-2.compute.amazonaws.com] out: "
     ]
    },
    {
     "name": "stdout",
     "output_type": "stream",
     "text": [
      "FORM DATA RECEIVED IS:\n"
     ]
    },
    {
     "name": "stdout",
     "output_type": "stream",
     "text": [
      "[ec2-35-163-157-65.us-west-2.compute.amazonaws.com] out: "
     ]
    },
    {
     "name": "stdout",
     "output_type": "stream",
     "text": [
      "ImmutableMultiDict([('user_id', u'U4AR0RMB7'), ('channel_id', u'C4B9ZV3SA'), ('timestamp', u'1488746871.979491'), ('token', u'9PbCyKAa0SIXMAJzaWDRRei2'), ('channel_name', u'bot_chat'), ('team_id', u'T4AKCH42W'), ('team_domain', u'sitbia660'), ('text', u'&lt;I_NEED_HELP_WITH_CODING&gt;: how to find duplicates in a list [python] [list]'), ('service_id', u'146659565858'), ('user_name', u'rong')])\n"
     ]
    },
    {
     "name": "stdout",
     "output_type": "stream",
     "text": [
      "[ec2-35-163-157-65.us-west-2.compute.amazonaws.com] out: "
     ]
    },
    {
     "name": "stdout",
     "output_type": "stream",
     "text": [
      "\n"
     ]
    },
    {
     "name": "stdout",
     "output_type": "stream",
     "text": [
      "[ec2-35-163-157-65.us-west-2.compute.amazonaws.com] out: "
     ]
    },
    {
     "name": "stdout",
     "output_type": "stream",
     "text": [
      "\n"
     ]
    },
    {
     "name": "stdout",
     "output_type": "stream",
     "text": [
      "[ec2-35-163-157-65.us-west-2.compute.amazonaws.com] out: "
     ]
    },
    {
     "name": "stdout",
     "output_type": "stream",
     "text": [
      "Message:\n"
     ]
    },
    {
     "name": "stdout",
     "output_type": "stream",
     "text": [
      "[ec2-35-163-157-65.us-west-2.compute.amazonaws.com] out: "
     ]
    },
    {
     "name": "stdout",
     "output_type": "stream",
     "text": [
      "rong in bot_chat says: &lt;I_NEED_HELP_WITH_CODING&gt;: how to find duplicates in a list [python] [list]\n"
     ]
    },
    {
     "name": "stdout",
     "output_type": "stream",
     "text": [
      "[ec2-35-163-157-65.us-west-2.compute.amazonaws.com] out: "
     ]
    },
    {
     "name": "stdout",
     "output_type": "stream",
     "text": [
      "========REQUEST HANDLING COMPLETE========\n"
     ]
    },
    {
     "name": "stdout",
     "output_type": "stream",
     "text": [
      "[ec2-35-163-157-65.us-west-2.compute.amazonaws.com] out: "
     ]
    },
    {
     "name": "stdout",
     "output_type": "stream",
     "text": [
      "\n"
     ]
    },
    {
     "name": "stdout",
     "output_type": "stream",
     "text": [
      "[ec2-35-163-157-65.us-west-2.compute.amazonaws.com] out: "
     ]
    },
    {
     "name": "stdout",
     "output_type": "stream",
     "text": [
      "\n"
     ]
    },
    {
     "name": "stdout",
     "output_type": "stream",
     "text": [
      "[ec2-35-163-157-65.us-west-2.compute.amazonaws.com] out: "
     ]
    },
    {
     "name": "stdout",
     "output_type": "stream",
     "text": [
      "52.90.121.46 - - [05/Mar/2017 20:47:52] \"POST /slack HTTP/1.1\" 200 -"
     ]
    },
    {
     "name": "stdout",
     "output_type": "stream",
     "text": [
      "\n"
     ]
    },
    {
     "name": "stdout",
     "output_type": "stream",
     "text": [
      "[ec2-35-163-157-65.us-west-2.compute.amazonaws.com] out: "
     ]
    },
    {
     "name": "stdout",
     "output_type": "stream",
     "text": [
      "========POST REQUEST @ /slack=========\n"
     ]
    },
    {
     "name": "stdout",
     "output_type": "stream",
     "text": [
      "[ec2-35-163-157-65.us-west-2.compute.amazonaws.com] out: "
     ]
    },
    {
     "name": "stdout",
     "output_type": "stream",
     "text": [
      "FORM DATA RECEIVED IS:\n"
     ]
    },
    {
     "name": "stdout",
     "output_type": "stream",
     "text": [
      "[ec2-35-163-157-65.us-west-2.compute.amazonaws.com] out: "
     ]
    },
    {
     "name": "stdout",
     "output_type": "stream",
     "text": [
      "ImmutableMultiDict([('user_id', u'U4AR0RMB7'), ('channel_id', u'C4B9ZV3SA'), ('timestamp', u'1488746890.979882'), ('token', u'9PbCyKAa0SIXMAJzaWDRRei2'), ('channel_name', u'bot_chat'), ('team_id', u'T4AKCH42W'), ('team_domain', u'sitbia660'), ('text', u'&lt;I_NEED_HELP_WITH_CODING&gt;: how to find duplicates in a list [python] [list]'), ('service_id', u'146659565858'), ('user_name', u'rong')])\n"
     ]
    },
    {
     "name": "stdout",
     "output_type": "stream",
     "text": [
      "[ec2-35-163-157-65.us-west-2.compute.amazonaws.com] out: "
     ]
    },
    {
     "name": "stdout",
     "output_type": "stream",
     "text": [
      "\n"
     ]
    },
    {
     "name": "stdout",
     "output_type": "stream",
     "text": [
      "[ec2-35-163-157-65.us-west-2.compute.amazonaws.com] out: "
     ]
    },
    {
     "name": "stdout",
     "output_type": "stream",
     "text": [
      "\n"
     ]
    },
    {
     "name": "stdout",
     "output_type": "stream",
     "text": [
      "[ec2-35-163-157-65.us-west-2.compute.amazonaws.com] out: "
     ]
    },
    {
     "name": "stdout",
     "output_type": "stream",
     "text": [
      "Message:\n"
     ]
    },
    {
     "name": "stdout",
     "output_type": "stream",
     "text": [
      "[ec2-35-163-157-65.us-west-2.compute.amazonaws.com] out: "
     ]
    },
    {
     "name": "stdout",
     "output_type": "stream",
     "text": [
      "rong in bot_chat says: &lt;I_NEED_HELP_WITH_CODING&gt;: how to find duplicates in a list [python] [list]\n"
     ]
    },
    {
     "name": "stdout",
     "output_type": "stream",
     "text": [
      "[ec2-35-163-157-65.us-west-2.compute.amazonaws.com] out: "
     ]
    },
    {
     "name": "stdout",
     "output_type": "stream",
     "text": [
      "========REQUEST HANDLING COMPLETE========\n"
     ]
    },
    {
     "name": "stdout",
     "output_type": "stream",
     "text": [
      "[ec2-35-163-157-65.us-west-2.compute.amazonaws.com] out: "
     ]
    },
    {
     "name": "stdout",
     "output_type": "stream",
     "text": [
      "\n"
     ]
    },
    {
     "name": "stdout",
     "output_type": "stream",
     "text": [
      "[ec2-35-163-157-65.us-west-2.compute.amazonaws.com] out: "
     ]
    },
    {
     "name": "stdout",
     "output_type": "stream",
     "text": [
      "\n"
     ]
    },
    {
     "name": "stdout",
     "output_type": "stream",
     "text": [
      "[ec2-35-163-157-65.us-west-2.compute.amazonaws.com] out: "
     ]
    },
    {
     "name": "stdout",
     "output_type": "stream",
     "text": [
      "52.54.222.230 - - [05/Mar/2017 20:48:10] \"POST /slack HTTP/1.1\" 200 -\n"
     ]
    },
    {
     "name": "stdout",
     "output_type": "stream",
     "text": [
      "[ec2-35-163-157-65.us-west-2.compute.amazonaws.com] out: "
     ]
    },
    {
     "name": "stdout",
     "output_type": "stream",
     "text": [
      "========POST REQUEST @ /slack=========\n"
     ]
    },
    {
     "name": "stdout",
     "output_type": "stream",
     "text": [
      "[ec2-35-163-157-65.us-west-2.compute.amazonaws.com] out: "
     ]
    },
    {
     "name": "stdout",
     "output_type": "stream",
     "text": [
      "FORM DATA RECEIVED IS:\n"
     ]
    },
    {
     "name": "stdout",
     "output_type": "stream",
     "text": [
      "[ec2-35-163-157-65.us-west-2.compute.amazonaws.com] out: "
     ]
    },
    {
     "name": "stdout",
     "output_type": "stream",
     "text": [
      "ImmutableMultiDict([('user_id', u'USLACKBOT'), ('channel_id', u'C4B9ZV3SA'), ('timestamp', u'1488746891.979911'), ('token', u'9PbCyKAa0SIXMAJzaWDRRei2'), ('bot_name', u'rong_bot'), ('channel_name', u'bot_chat'), ('team_id', u'T4AKCH42W'), ('team_domain', u'sitbia660'), ('text', u'&lt;I_NEED_HELP_WITH_CODING&gt;: how to find duplicates in a list [python] [list]\\n1. <http://stackoverflow.com/questions/42602589/how-do-you-find-duplicates-in-a-list-and-exchange-them-to-0|How do you find duplicates in a list and exchange them to 0?> (1 responses), 03-04-2017\\n2. <http://stackoverflow.com/questions/42544131/how-to-get-an-index-in-a-list-without-calling-index-function-or-any-built-in-fun|How to get an index in a list without calling index function or ANY built in functions?> (1 responses), 03-01-2017\\n3. <http://stackoverflow.com/questions/42194659/controlling-list-visualisation-in-ipython|Controlling list visualisation in IPython> (3 responses), 02-12-2017\\n4. <http://stackoverflow.com/questions/13521484/python-list-iteration-and-deletion|Python list iteration and deletion> (4 responses), 11-22-2012\\n5. <http://stackoverflow.com/questions/41949894/find-duplicates-by-tuple-index-in-list-and-randomly-keep-some|find duplicates by tuple index in list and randomly keep some> (2 responses), 01-31-2017'), ('service_id', u'146659565858'), ('user_name', u'slackbot'), ('bot_id', u'B4AMD95K6')])\n"
     ]
    },
    {
     "name": "stdout",
     "output_type": "stream",
     "text": [
      "[ec2-35-163-157-65.us-west-2.compute.amazonaws.com] out: "
     ]
    },
    {
     "name": "stdout",
     "output_type": "stream",
     "text": [
      "\n"
     ]
    },
    {
     "name": "stdout",
     "output_type": "stream",
     "text": [
      "[ec2-35-163-157-65.us-west-2.compute.amazonaws.com] out: "
     ]
    },
    {
     "name": "stdout",
     "output_type": "stream",
     "text": [
      "\n"
     ]
    },
    {
     "name": "stdout",
     "output_type": "stream",
     "text": [
      "[ec2-35-163-157-65.us-west-2.compute.amazonaws.com] out: "
     ]
    },
    {
     "name": "stdout",
     "output_type": "stream",
     "text": [
      "Message:\n"
     ]
    },
    {
     "name": "stdout",
     "output_type": "stream",
     "text": [
      "[ec2-35-163-157-65.us-west-2.compute.amazonaws.com] out: "
     ]
    },
    {
     "name": "stdout",
     "output_type": "stream",
     "text": [
      "slackbot in bot_chat says: &lt;I_NEED_HELP_WITH_CODING&gt;: how to find duplicates in a list [python] [list]\n"
     ]
    },
    {
     "name": "stdout",
     "output_type": "stream",
     "text": [
      "[ec2-35-163-157-65.us-west-2.compute.amazonaws.com] out: "
     ]
    },
    {
     "name": "stdout",
     "output_type": "stream",
     "text": [
      "1. <http://stackoverflow.com/questions/42602589/how-do-you-find-duplicates-in-a-list-and-exchange-them-to-0|How do you find duplicates in a list and exchange them to 0?> (1 responses), 03-04-2017\n"
     ]
    },
    {
     "name": "stdout",
     "output_type": "stream",
     "text": [
      "[ec2-35-163-157-65.us-west-2.compute.amazonaws.com] out: "
     ]
    },
    {
     "name": "stdout",
     "output_type": "stream",
     "text": [
      "2. <http://stackoverflow.com/questions/42544131/how-to-get-an-index-in-a-list-without-calling-index-function-or-any-built-in-fun|How to get an index in a list without calling index function or ANY built in functions?> (1 responses), 03-01-2017\n"
     ]
    },
    {
     "name": "stdout",
     "output_type": "stream",
     "text": [
      "[ec2-35-163-157-65.us-west-2.compute.amazonaws.com] out: "
     ]
    },
    {
     "name": "stdout",
     "output_type": "stream",
     "text": [
      "3. <http://stackoverflow.com/questions/42194659/controlling-list-visualisation-in-ipython|Controlling list visualisation in IPython> (3 responses), 02-12-2017\n"
     ]
    },
    {
     "name": "stdout",
     "output_type": "stream",
     "text": [
      "[ec2-35-163-157-65.us-west-2.compute.amazonaws.com] out: "
     ]
    },
    {
     "name": "stdout",
     "output_type": "stream",
     "text": [
      "4. <http://stackoverflow.com/questions/13521484/python-list-iteration-and-deletion|Python list iteration and deletion> (4 responses), 11-22-2012\n"
     ]
    },
    {
     "name": "stdout",
     "output_type": "stream",
     "text": [
      "[ec2-35-163-157-65.us-west-2.compute.amazonaws.com] out: "
     ]
    },
    {
     "name": "stdout",
     "output_type": "stream",
     "text": [
      "5. <http://stackoverflow.com/questions/41949894/find-duplicates-by-tuple-index-in-list-and-randomly-keep-some|find duplicates by tuple index in list and randomly keep some> (2 responses), 01-31-2017\n"
     ]
    },
    {
     "name": "stdout",
     "output_type": "stream",
     "text": [
      "[ec2-35-163-157-65.us-west-2.compute.amazonaws.com] out: "
     ]
    },
    {
     "name": "stdout",
     "output_type": "stream",
     "text": [
      "========REQUEST HANDLING COMPLETE========\n"
     ]
    },
    {
     "name": "stdout",
     "output_type": "stream",
     "text": [
      "[ec2-35-163-157-65.us-west-2.compute.amazonaws.com] out: "
     ]
    },
    {
     "name": "stdout",
     "output_type": "stream",
     "text": [
      "\n"
     ]
    },
    {
     "name": "stdout",
     "output_type": "stream",
     "text": [
      "[ec2-35-163-157-65.us-west-2.compute.amazonaws.com] out: "
     ]
    },
    {
     "name": "stdout",
     "output_type": "stream",
     "text": [
      "\n"
     ]
    },
    {
     "name": "stdout",
     "output_type": "stream",
     "text": [
      "[ec2-35-163-157-65.us-west-2.compute.amazonaws.com] out: "
     ]
    },
    {
     "name": "stdout",
     "output_type": "stream",
     "text": [
      "54.165.241.61 - - [05/Mar/2017 20:48:11] \"POST /slack HTTP/1.1\" 200 -"
     ]
    },
    {
     "name": "stdout",
     "output_type": "stream",
     "text": [
      "\n"
     ]
    },
    {
     "name": "stdout",
     "output_type": "stream",
     "text": [
      "[ec2-35-163-157-65.us-west-2.compute.amazonaws.com] out: "
     ]
    },
    {
     "name": "stdout",
     "output_type": "stream",
     "text": [
      "========POST REQUEST @ /slack=========\n"
     ]
    },
    {
     "name": "stdout",
     "output_type": "stream",
     "text": [
      "[ec2-35-163-157-65.us-west-2.compute.amazonaws.com] out: "
     ]
    },
    {
     "name": "stdout",
     "output_type": "stream",
     "text": [
      "FORM DATA RECEIVED IS:\n"
     ]
    },
    {
     "name": "stdout",
     "output_type": "stream",
     "text": [
      "[ec2-35-163-157-65.us-west-2.compute.amazonaws.com] out: "
     ]
    },
    {
     "name": "stdout",
     "output_type": "stream",
     "text": [
      "ImmutableMultiDict([('user_id', u'U4AR0RMB7'), ('channel_id', u'C4B9ZV3SA'), ('timestamp', u'1488746895.980046'), ('token', u'9PbCyKAa0SIXMAJzaWDRRei2'), ('channel_name', u'bot_chat'), ('team_id', u'T4AKCH42W'), ('team_domain', u'sitbia660'), ('text', u\"&lt;WHAT'S_THE_WEATHER_LIKE_AT&gt;: San Francisco\"), ('service_id', u'146659565858'), ('user_name', u'rong')])\n"
     ]
    },
    {
     "name": "stdout",
     "output_type": "stream",
     "text": [
      "[ec2-35-163-157-65.us-west-2.compute.amazonaws.com] out: "
     ]
    },
    {
     "name": "stdout",
     "output_type": "stream",
     "text": [
      "\n"
     ]
    },
    {
     "name": "stdout",
     "output_type": "stream",
     "text": [
      "[ec2-35-163-157-65.us-west-2.compute.amazonaws.com] out: "
     ]
    },
    {
     "name": "stdout",
     "output_type": "stream",
     "text": [
      "\n"
     ]
    },
    {
     "name": "stdout",
     "output_type": "stream",
     "text": [
      "[ec2-35-163-157-65.us-west-2.compute.amazonaws.com] out: "
     ]
    },
    {
     "name": "stdout",
     "output_type": "stream",
     "text": [
      "Message:\n"
     ]
    },
    {
     "name": "stdout",
     "output_type": "stream",
     "text": [
      "[ec2-35-163-157-65.us-west-2.compute.amazonaws.com] out: "
     ]
    },
    {
     "name": "stdout",
     "output_type": "stream",
     "text": [
      "rong in bot_chat says: &lt;WHAT'S_THE_WEATHER_LIKE_AT&gt;: San Francisco\n"
     ]
    },
    {
     "name": "stdout",
     "output_type": "stream",
     "text": [
      "[ec2-35-163-157-65.us-west-2.compute.amazonaws.com] out: "
     ]
    },
    {
     "name": "stdout",
     "output_type": "stream",
     "text": [
      "========REQUEST HANDLING COMPLETE========\n"
     ]
    },
    {
     "name": "stdout",
     "output_type": "stream",
     "text": [
      "[ec2-35-163-157-65.us-west-2.compute.amazonaws.com] out: "
     ]
    },
    {
     "name": "stdout",
     "output_type": "stream",
     "text": [
      "\n"
     ]
    },
    {
     "name": "stdout",
     "output_type": "stream",
     "text": [
      "[ec2-35-163-157-65.us-west-2.compute.amazonaws.com] out: "
     ]
    },
    {
     "name": "stdout",
     "output_type": "stream",
     "text": [
      "\n"
     ]
    },
    {
     "name": "stdout",
     "output_type": "stream",
     "text": [
      "[ec2-35-163-157-65.us-west-2.compute.amazonaws.com] out: "
     ]
    },
    {
     "name": "stdout",
     "output_type": "stream",
     "text": [
      "52.90.33.223 - - [05/Mar/2017 20:48:16] \"POST /slack HTTP/1.1\" 200 -\n"
     ]
    },
    {
     "name": "stdout",
     "output_type": "stream",
     "text": [
      "[ec2-35-163-157-65.us-west-2.compute.amazonaws.com] out: "
     ]
    },
    {
     "name": "stdout",
     "output_type": "stream",
     "text": [
      "========POST REQUEST @ /slack=========\n"
     ]
    },
    {
     "name": "stdout",
     "output_type": "stream",
     "text": [
      "[ec2-35-163-157-65.us-west-2.compute.amazonaws.com] out: "
     ]
    },
    {
     "name": "stdout",
     "output_type": "stream",
     "text": [
      "FORM DATA RECEIVED IS:\n"
     ]
    },
    {
     "name": "stdout",
     "output_type": "stream",
     "text": [
      "[ec2-35-163-157-65.us-west-2.compute.amazonaws.com] out: "
     ]
    },
    {
     "name": "stdout",
     "output_type": "stream",
     "text": [
      "ImmutableMultiDict([('user_id', u'U4AR0RMB7'), ('channel_id', u'C4B9ZV3SA'), ('timestamp', u'1488747236.988906'), ('token', u'9PbCyKAa0SIXMAJzaWDRRei2'), ('channel_name', u'bot_chat'), ('team_id', u'T4AKCH42W'), ('team_domain', u'sitbia660'), ('text', u\"&lt;WHAT'S_THE_WEATHER_LIKE_AT&gt;: 07307\"), ('service_id', u'146659565858'), ('user_name', u'rong')])\n"
     ]
    },
    {
     "name": "stdout",
     "output_type": "stream",
     "text": [
      "[ec2-35-163-157-65.us-west-2.compute.amazonaws.com] out: "
     ]
    },
    {
     "name": "stdout",
     "output_type": "stream",
     "text": [
      "\n"
     ]
    },
    {
     "name": "stdout",
     "output_type": "stream",
     "text": [
      "[ec2-35-163-157-65.us-west-2.compute.amazonaws.com] out: "
     ]
    },
    {
     "name": "stdout",
     "output_type": "stream",
     "text": [
      "\n"
     ]
    },
    {
     "name": "stdout",
     "output_type": "stream",
     "text": [
      "[ec2-35-163-157-65.us-west-2.compute.amazonaws.com] out: "
     ]
    },
    {
     "name": "stdout",
     "output_type": "stream",
     "text": [
      "Message:\n"
     ]
    },
    {
     "name": "stdout",
     "output_type": "stream",
     "text": [
      "[ec2-35-163-157-65.us-west-2.compute.amazonaws.com] out: "
     ]
    },
    {
     "name": "stdout",
     "output_type": "stream",
     "text": [
      "rong in bot_chat says: &lt;WHAT'S_THE_WEATHER_LIKE_AT&gt;: 07307\n"
     ]
    },
    {
     "name": "stdout",
     "output_type": "stream",
     "text": [
      "[ec2-35-163-157-65.us-west-2.compute.amazonaws.com] out: "
     ]
    },
    {
     "name": "stdout",
     "output_type": "stream",
     "text": [
      "========REQUEST HANDLING COMPLETE========\n"
     ]
    },
    {
     "name": "stdout",
     "output_type": "stream",
     "text": [
      "[ec2-35-163-157-65.us-west-2.compute.amazonaws.com] out: "
     ]
    },
    {
     "name": "stdout",
     "output_type": "stream",
     "text": [
      "\n"
     ]
    },
    {
     "name": "stdout",
     "output_type": "stream",
     "text": [
      "[ec2-35-163-157-65.us-west-2.compute.amazonaws.com] out: "
     ]
    },
    {
     "name": "stdout",
     "output_type": "stream",
     "text": [
      "\n"
     ]
    },
    {
     "name": "stdout",
     "output_type": "stream",
     "text": [
      "[ec2-35-163-157-65.us-west-2.compute.amazonaws.com] out: "
     ]
    },
    {
     "name": "stdout",
     "output_type": "stream",
     "text": [
      "54.174.33.17 - - [05/Mar/2017 20:53:56] \"POST /slack HTTP/1.1\" 200 -"
     ]
    },
    {
     "name": "stdout",
     "output_type": "stream",
     "text": [
      "\n"
     ]
    },
    {
     "name": "stdout",
     "output_type": "stream",
     "text": [
      "[ec2-35-163-157-65.us-west-2.compute.amazonaws.com] out: "
     ]
    },
    {
     "name": "stdout",
     "output_type": "stream",
     "text": [
      "========POST REQUEST @ /slack=========\n"
     ]
    },
    {
     "name": "stdout",
     "output_type": "stream",
     "text": [
      "[ec2-35-163-157-65.us-west-2.compute.amazonaws.com] out: "
     ]
    },
    {
     "name": "stdout",
     "output_type": "stream",
     "text": [
      "FORM DATA RECEIVED IS:\n"
     ]
    },
    {
     "name": "stdout",
     "output_type": "stream",
     "text": [
      "[ec2-35-163-157-65.us-west-2.compute.amazonaws.com] out: "
     ]
    },
    {
     "name": "stdout",
     "output_type": "stream",
     "text": [
      "ImmutableMultiDict([('user_id', u'U4AR0RMB7'), ('channel_id', u'C4B9ZV3SA'), ('timestamp', u'1488747247.989112'), ('token', u'9PbCyKAa0SIXMAJzaWDRRei2'), ('channel_name', u'bot_chat'), ('team_id', u'T4AKCH42W'), ('team_domain', u'sitbia660'), ('text', u\"&lt;WHAT'S_THE_WEATHER_LIKE_AT&gt;: 45 Main St Brooklyn, NY\"), ('service_id', u'146659565858'), ('user_name', u'rong')])\n"
     ]
    },
    {
     "name": "stdout",
     "output_type": "stream",
     "text": [
      "[ec2-35-163-157-65.us-west-2.compute.amazonaws.com] out: "
     ]
    },
    {
     "name": "stdout",
     "output_type": "stream",
     "text": [
      "\n"
     ]
    },
    {
     "name": "stdout",
     "output_type": "stream",
     "text": [
      "[ec2-35-163-157-65.us-west-2.compute.amazonaws.com] out: "
     ]
    },
    {
     "name": "stdout",
     "output_type": "stream",
     "text": [
      "\n"
     ]
    },
    {
     "name": "stdout",
     "output_type": "stream",
     "text": [
      "[ec2-35-163-157-65.us-west-2.compute.amazonaws.com] out: "
     ]
    },
    {
     "name": "stdout",
     "output_type": "stream",
     "text": [
      "Message:\n"
     ]
    },
    {
     "name": "stdout",
     "output_type": "stream",
     "text": [
      "[ec2-35-163-157-65.us-west-2.compute.amazonaws.com] out: "
     ]
    },
    {
     "name": "stdout",
     "output_type": "stream",
     "text": [
      "rong in bot_chat says: &lt;WHAT'S_THE_WEATHER_LIKE_AT&gt;: 45 Main St Brooklyn, NY\n"
     ]
    },
    {
     "name": "stdout",
     "output_type": "stream",
     "text": [
      "[ec2-35-163-157-65.us-west-2.compute.amazonaws.com] out: "
     ]
    },
    {
     "name": "stdout",
     "output_type": "stream",
     "text": [
      "========REQUEST HANDLING COMPLETE========\n"
     ]
    },
    {
     "name": "stdout",
     "output_type": "stream",
     "text": [
      "[ec2-35-163-157-65.us-west-2.compute.amazonaws.com] out: "
     ]
    },
    {
     "name": "stdout",
     "output_type": "stream",
     "text": [
      "\n"
     ]
    },
    {
     "name": "stdout",
     "output_type": "stream",
     "text": [
      "[ec2-35-163-157-65.us-west-2.compute.amazonaws.com] out: "
     ]
    },
    {
     "name": "stdout",
     "output_type": "stream",
     "text": [
      "\n"
     ]
    },
    {
     "name": "stdout",
     "output_type": "stream",
     "text": [
      "[ec2-35-163-157-65.us-west-2.compute.amazonaws.com] out: "
     ]
    },
    {
     "name": "stdout",
     "output_type": "stream",
     "text": [
      "54.209.231.248 - - [05/Mar/2017 20:54:08] \"POST /slack HTTP/1.1\" 200 -"
     ]
    },
    {
     "name": "stdout",
     "output_type": "stream",
     "text": [
      "\n"
     ]
    },
    {
     "name": "stdout",
     "output_type": "stream",
     "text": [
      "[ec2-35-163-157-65.us-west-2.compute.amazonaws.com] out: "
     ]
    },
    {
     "name": "stdout",
     "output_type": "stream",
     "text": [
      "========POST REQUEST @ /slack=========\n"
     ]
    },
    {
     "name": "stdout",
     "output_type": "stream",
     "text": [
      "[ec2-35-163-157-65.us-west-2.compute.amazonaws.com] out: "
     ]
    },
    {
     "name": "stdout",
     "output_type": "stream",
     "text": [
      "FORM DATA RECEIVED IS:\n"
     ]
    },
    {
     "name": "stdout",
     "output_type": "stream",
     "text": [
      "[ec2-35-163-157-65.us-west-2.compute.amazonaws.com] out: "
     ]
    },
    {
     "name": "stdout",
     "output_type": "stream",
     "text": [
      "ImmutableMultiDict([('user_id', u'U4AR0RMB7'), ('channel_id', u'C4B9ZV3SA'), ('timestamp', u'1488747275.989571'), ('token', u'9PbCyKAa0SIXMAJzaWDRRei2'), ('channel_name', u'bot_chat'), ('team_id', u'T4AKCH42W'), ('team_domain', u'sitbia660'), ('text', u'&lt;I_NEED_HELP_WITH_CODING&gt;: how to find duplicates in a list'), ('service_id', u'146659565858'), ('user_name', u'rong')])\n"
     ]
    },
    {
     "name": "stdout",
     "output_type": "stream",
     "text": [
      "[ec2-35-163-157-65.us-west-2.compute.amazonaws.com] out: "
     ]
    },
    {
     "name": "stdout",
     "output_type": "stream",
     "text": [
      "\n"
     ]
    },
    {
     "name": "stdout",
     "output_type": "stream",
     "text": [
      "[ec2-35-163-157-65.us-west-2.compute.amazonaws.com] out: "
     ]
    },
    {
     "name": "stdout",
     "output_type": "stream",
     "text": [
      "\n"
     ]
    },
    {
     "name": "stdout",
     "output_type": "stream",
     "text": [
      "[ec2-35-163-157-65.us-west-2.compute.amazonaws.com] out: "
     ]
    },
    {
     "name": "stdout",
     "output_type": "stream",
     "text": [
      "Message:\n"
     ]
    },
    {
     "name": "stdout",
     "output_type": "stream",
     "text": [
      "[ec2-35-163-157-65.us-west-2.compute.amazonaws.com] out: "
     ]
    },
    {
     "name": "stdout",
     "output_type": "stream",
     "text": [
      "rong in bot_chat says: &lt;I_NEED_HELP_WITH_CODING&gt;: how to find duplicates in a list\n"
     ]
    },
    {
     "name": "stdout",
     "output_type": "stream",
     "text": [
      "[ec2-35-163-157-65.us-west-2.compute.amazonaws.com] out: "
     ]
    },
    {
     "name": "stdout",
     "output_type": "stream",
     "text": [
      "========REQUEST HANDLING COMPLETE========\n"
     ]
    },
    {
     "name": "stdout",
     "output_type": "stream",
     "text": [
      "[ec2-35-163-157-65.us-west-2.compute.amazonaws.com] out: "
     ]
    },
    {
     "name": "stdout",
     "output_type": "stream",
     "text": [
      "\n"
     ]
    },
    {
     "name": "stdout",
     "output_type": "stream",
     "text": [
      "[ec2-35-163-157-65.us-west-2.compute.amazonaws.com] out: "
     ]
    },
    {
     "name": "stdout",
     "output_type": "stream",
     "text": [
      "\n"
     ]
    },
    {
     "name": "stdout",
     "output_type": "stream",
     "text": [
      "[ec2-35-163-157-65.us-west-2.compute.amazonaws.com] out: "
     ]
    },
    {
     "name": "stdout",
     "output_type": "stream",
     "text": [
      "54.209.231.248 - - [05/Mar/2017 20:54:36] \"POST /slack HTTP/1.1\" 200 -\n"
     ]
    },
    {
     "name": "stdout",
     "output_type": "stream",
     "text": [
      "[ec2-35-163-157-65.us-west-2.compute.amazonaws.com] out: "
     ]
    },
    {
     "name": "stdout",
     "output_type": "stream",
     "text": [
      "========POST REQUEST @ /slack=========\n"
     ]
    },
    {
     "name": "stdout",
     "output_type": "stream",
     "text": [
      "[ec2-35-163-157-65.us-west-2.compute.amazonaws.com] out: "
     ]
    },
    {
     "name": "stdout",
     "output_type": "stream",
     "text": [
      "FORM DATA RECEIVED IS:\n"
     ]
    },
    {
     "name": "stdout",
     "output_type": "stream",
     "text": [
      "[ec2-35-163-157-65.us-west-2.compute.amazonaws.com] out: "
     ]
    },
    {
     "name": "stdout",
     "output_type": "stream",
     "text": [
      "ImmutableMultiDict([('user_id', u'USLACKBOT'), ('channel_id', u'C4B9ZV3SA'), ('timestamp', u'1488747276.989589'), ('token', u'9PbCyKAa0SIXMAJzaWDRRei2'), ('bot_name', u'rong_bot'), ('channel_name', u'bot_chat'), ('team_id', u'T4AKCH42W'), ('team_domain', u'sitbia660'), ('text', u'&lt;I_NEED_HELP_WITH_CODING&gt;: how to find duplicates in a list\\n1. <http://stackoverflow.com/questions/42602589/how-do-you-find-duplicates-in-a-list-and-exchange-them-to-0|How do you find duplicates in a list and exchange them to 0?> (1 responses), 03-04-2017\\n2. <http://stackoverflow.com/questions/23402047/how-to-combine-two-querysets-when-defining-choices-in-a-modelmultiplechoicefield|How to combine two querysets when defining choices in a ModelMultipleChoiceField?> (2 responses), 05-01-2014\\n3. <http://stackoverflow.com/questions/42590174/converting-operandt-to-integer|Converting Operand&lt;T&gt; to Integer> (1 responses), 03-03-2017\\n4. <http://stackoverflow.com/questions/42570266/nodejs-needle-process-array-of-async-requests-matching-url-with-statuscode|NodeJS Needle process array of async requests matching url with statusCode> (1 responses), 03-03-2017\\n5. <http://stackoverflow.com/questions/42544131/how-to-get-an-index-in-a-list-without-calling-index-function-or-any-built-in-fun|How to get an index in a list without calling index function or ANY built in functions?> (1 responses), 03-01-2017'), ('service_id', u'146659565858'), ('user_name', u'slackbot'), ('bot_id', u'B4AMD95K6')])\n"
     ]
    },
    {
     "name": "stdout",
     "output_type": "stream",
     "text": [
      "[ec2-35-163-157-65.us-west-2.compute.amazonaws.com] out: "
     ]
    },
    {
     "name": "stdout",
     "output_type": "stream",
     "text": [
      "\n"
     ]
    },
    {
     "name": "stdout",
     "output_type": "stream",
     "text": [
      "[ec2-35-163-157-65.us-west-2.compute.amazonaws.com] out: "
     ]
    },
    {
     "name": "stdout",
     "output_type": "stream",
     "text": [
      "\n"
     ]
    },
    {
     "name": "stdout",
     "output_type": "stream",
     "text": [
      "[ec2-35-163-157-65.us-west-2.compute.amazonaws.com] out: "
     ]
    },
    {
     "name": "stdout",
     "output_type": "stream",
     "text": [
      "Message:\n"
     ]
    },
    {
     "name": "stdout",
     "output_type": "stream",
     "text": [
      "[ec2-35-163-157-65.us-west-2.compute.amazonaws.com] out: "
     ]
    },
    {
     "name": "stdout",
     "output_type": "stream",
     "text": [
      "slackbot in bot_chat says: &lt;I_NEED_HELP_WITH_CODING&gt;: how to find duplicates in a list\n"
     ]
    },
    {
     "name": "stdout",
     "output_type": "stream",
     "text": [
      "[ec2-35-163-157-65.us-west-2.compute.amazonaws.com] out: "
     ]
    },
    {
     "name": "stdout",
     "output_type": "stream",
     "text": [
      "1. <http://stackoverflow.com/questions/42602589/how-do-you-find-duplicates-in-a-list-and-exchange-them-to-0|How do you find duplicates in a list and exchange them to 0?> (1 responses), 03-04-2017\n"
     ]
    },
    {
     "name": "stdout",
     "output_type": "stream",
     "text": [
      "[ec2-35-163-157-65.us-west-2.compute.amazonaws.com] out: "
     ]
    },
    {
     "name": "stdout",
     "output_type": "stream",
     "text": [
      "2. <http://stackoverflow.com/questions/23402047/how-to-combine-two-querysets-when-defining-choices-in-a-modelmultiplechoicefield|How to combine two querysets when defining choices in a ModelMultipleChoiceField?> (2 responses), 05-01-2014\n"
     ]
    },
    {
     "name": "stdout",
     "output_type": "stream",
     "text": [
      "[ec2-35-163-157-65.us-west-2.compute.amazonaws.com] out: "
     ]
    },
    {
     "name": "stdout",
     "output_type": "stream",
     "text": [
      "3. <http://stackoverflow.com/questions/42590174/converting-operandt-to-integer|Converting Operand&lt;T&gt; to Integer> (1 responses), 03-03-2017\n"
     ]
    },
    {
     "name": "stdout",
     "output_type": "stream",
     "text": [
      "[ec2-35-163-157-65.us-west-2.compute.amazonaws.com] out: "
     ]
    },
    {
     "name": "stdout",
     "output_type": "stream",
     "text": [
      "4. <http://stackoverflow.com/questions/42570266/nodejs-needle-process-array-of-async-requests-matching-url-with-statuscode|NodeJS Needle process array of async requests matching url with statusCode> (1 responses), 03-03-2017\n"
     ]
    },
    {
     "name": "stdout",
     "output_type": "stream",
     "text": [
      "[ec2-35-163-157-65.us-west-2.compute.amazonaws.com] out: "
     ]
    },
    {
     "name": "stdout",
     "output_type": "stream",
     "text": [
      "5. <http://stackoverflow.com/questions/42544131/how-to-get-an-index-in-a-list-without-calling-index-function-or-any-built-in-fun|How to get an index in a list without calling index function or ANY built in functions?> (1 responses), 03-01-2017\n"
     ]
    },
    {
     "name": "stdout",
     "output_type": "stream",
     "text": [
      "[ec2-35-163-157-65.us-west-2.compute.amazonaws.com] out: "
     ]
    },
    {
     "name": "stdout",
     "output_type": "stream",
     "text": [
      "========REQUEST HANDLING COMPLETE========\n"
     ]
    },
    {
     "name": "stdout",
     "output_type": "stream",
     "text": [
      "[ec2-35-163-157-65.us-west-2.compute.amazonaws.com] out: "
     ]
    },
    {
     "name": "stdout",
     "output_type": "stream",
     "text": [
      "\n"
     ]
    },
    {
     "name": "stdout",
     "output_type": "stream",
     "text": [
      "[ec2-35-163-157-65.us-west-2.compute.amazonaws.com] out: "
     ]
    },
    {
     "name": "stdout",
     "output_type": "stream",
     "text": [
      "\n"
     ]
    },
    {
     "name": "stdout",
     "output_type": "stream",
     "text": [
      "[ec2-35-163-157-65.us-west-2.compute.amazonaws.com] out: "
     ]
    },
    {
     "name": "stdout",
     "output_type": "stream",
     "text": [
      "54.174.33.17 - - [05/Mar/2017 20:54:36] \"POST /slack HTTP/1.1\" 200 -\n"
     ]
    },
    {
     "name": "stdout",
     "output_type": "stream",
     "text": [
      "[ec2-35-163-157-65.us-west-2.compute.amazonaws.com] out: "
     ]
    },
    {
     "name": "stdout",
     "output_type": "stream",
     "text": [
      "========POST REQUEST @ /slack=========\n"
     ]
    },
    {
     "name": "stdout",
     "output_type": "stream",
     "text": [
      "[ec2-35-163-157-65.us-west-2.compute.amazonaws.com] out: "
     ]
    },
    {
     "name": "stdout",
     "output_type": "stream",
     "text": [
      "FORM DATA RECEIVED IS:\n"
     ]
    },
    {
     "name": "stdout",
     "output_type": "stream",
     "text": [
      "[ec2-35-163-157-65.us-west-2.compute.amazonaws.com] out: "
     ]
    },
    {
     "name": "stdout",
     "output_type": "stream",
     "text": [
      "ImmutableMultiDict([('user_id', u'U4AR0RMB7'), ('channel_id', u'C4B9ZV3SA'), ('timestamp', u'1488747389.992211'), ('token', u'9PbCyKAa0SIXMAJzaWDRRei2'), ('channel_name', u'bot_chat'), ('team_id', u'T4AKCH42W'), ('team_domain', u'sitbia660'), ('text', u\"&lt;WHAT'S_THE_WEATHER_LIKE_AT&gt;: 45 Main St Brooklyn, NY\"), ('service_id', u'146659565858'), ('user_name', u'rong')])\n"
     ]
    },
    {
     "name": "stdout",
     "output_type": "stream",
     "text": [
      "[ec2-35-163-157-65.us-west-2.compute.amazonaws.com] out: "
     ]
    },
    {
     "name": "stdout",
     "output_type": "stream",
     "text": [
      "\n"
     ]
    },
    {
     "name": "stdout",
     "output_type": "stream",
     "text": [
      "[ec2-35-163-157-65.us-west-2.compute.amazonaws.com] out: "
     ]
    },
    {
     "name": "stdout",
     "output_type": "stream",
     "text": [
      "\n"
     ]
    },
    {
     "name": "stdout",
     "output_type": "stream",
     "text": [
      "[ec2-35-163-157-65.us-west-2.compute.amazonaws.com] out: "
     ]
    },
    {
     "name": "stdout",
     "output_type": "stream",
     "text": [
      "Message:\n"
     ]
    },
    {
     "name": "stdout",
     "output_type": "stream",
     "text": [
      "[ec2-35-163-157-65.us-west-2.compute.amazonaws.com] out: "
     ]
    },
    {
     "name": "stdout",
     "output_type": "stream",
     "text": [
      "rong in bot_chat says: &lt;WHAT'S_THE_WEATHER_LIKE_AT&gt;: 45 Main St Brooklyn, NY\n"
     ]
    },
    {
     "name": "stdout",
     "output_type": "stream",
     "text": [
      "[ec2-35-163-157-65.us-west-2.compute.amazonaws.com] out: "
     ]
    },
    {
     "name": "stdout",
     "output_type": "stream",
     "text": [
      "========REQUEST HANDLING COMPLETE========\n"
     ]
    },
    {
     "name": "stdout",
     "output_type": "stream",
     "text": [
      "[ec2-35-163-157-65.us-west-2.compute.amazonaws.com] out: "
     ]
    },
    {
     "name": "stdout",
     "output_type": "stream",
     "text": [
      "\n"
     ]
    },
    {
     "name": "stdout",
     "output_type": "stream",
     "text": [
      "[ec2-35-163-157-65.us-west-2.compute.amazonaws.com] out: "
     ]
    },
    {
     "name": "stdout",
     "output_type": "stream",
     "text": [
      "\n"
     ]
    },
    {
     "name": "stdout",
     "output_type": "stream",
     "text": [
      "[ec2-35-163-157-65.us-west-2.compute.amazonaws.com] out: "
     ]
    },
    {
     "name": "stdout",
     "output_type": "stream",
     "text": [
      "54.174.33.17 - - [05/Mar/2017 20:56:29] \"POST /slack HTTP/1.1\" 200 -\n"
     ]
    },
    {
     "name": "stdout",
     "output_type": "stream",
     "text": [
      "[ec2-35-163-157-65.us-west-2.compute.amazonaws.com] out: "
     ]
    },
    {
     "name": "stdout",
     "output_type": "stream",
     "text": [
      "========POST REQUEST @ /slack=========\n"
     ]
    },
    {
     "name": "stdout",
     "output_type": "stream",
     "text": [
      "[ec2-35-163-157-65.us-west-2.compute.amazonaws.com] out: "
     ]
    },
    {
     "name": "stdout",
     "output_type": "stream",
     "text": [
      "FORM DATA RECEIVED IS:\n"
     ]
    },
    {
     "name": "stdout",
     "output_type": "stream",
     "text": [
      "[ec2-35-163-157-65.us-west-2.compute.amazonaws.com] out: "
     ]
    },
    {
     "name": "stdout",
     "output_type": "stream",
     "text": [
      "ImmutableMultiDict([('user_id', u'USLACKBOT'), ('channel_id', u'C4B9ZV3SA'), ('timestamp', u'1488747390.992239'), ('token', u'9PbCyKAa0SIXMAJzaWDRRei2'), ('bot_name', u'rong_bot'), ('channel_name', u'bot_chat'), ('team_id', u'T4AKCH42W'), ('team_domain', u'sitbia660'), ('text', u\"&lt;WHAT'S_THE_WEATHER_LIKE_AT&gt;: 45 Main St Brooklyn, NY\"), ('service_id', u'146659565858'), ('user_name', u'slackbot'), ('bot_id', u'B4AMD95K6')])\n"
     ]
    },
    {
     "name": "stdout",
     "output_type": "stream",
     "text": [
      "[ec2-35-163-157-65.us-west-2.compute.amazonaws.com] out: "
     ]
    },
    {
     "name": "stdout",
     "output_type": "stream",
     "text": [
      "\n"
     ]
    },
    {
     "name": "stdout",
     "output_type": "stream",
     "text": [
      "[ec2-35-163-157-65.us-west-2.compute.amazonaws.com] out: "
     ]
    },
    {
     "name": "stdout",
     "output_type": "stream",
     "text": [
      "\n"
     ]
    },
    {
     "name": "stdout",
     "output_type": "stream",
     "text": [
      "[ec2-35-163-157-65.us-west-2.compute.amazonaws.com] out: "
     ]
    },
    {
     "name": "stdout",
     "output_type": "stream",
     "text": [
      "Message:\n"
     ]
    },
    {
     "name": "stdout",
     "output_type": "stream",
     "text": [
      "[ec2-35-163-157-65.us-west-2.compute.amazonaws.com] out: "
     ]
    },
    {
     "name": "stdout",
     "output_type": "stream",
     "text": [
      "slackbot in bot_chat says: &lt;WHAT'S_THE_WEATHER_LIKE_AT&gt;: 45 Main St Brooklyn, NY\n"
     ]
    },
    {
     "name": "stdout",
     "output_type": "stream",
     "text": [
      "[ec2-35-163-157-65.us-west-2.compute.amazonaws.com] out: "
     ]
    },
    {
     "name": "stdout",
     "output_type": "stream",
     "text": [
      "========REQUEST HANDLING COMPLETE========\n"
     ]
    },
    {
     "name": "stdout",
     "output_type": "stream",
     "text": [
      "[ec2-35-163-157-65.us-west-2.compute.amazonaws.com] out: "
     ]
    },
    {
     "name": "stdout",
     "output_type": "stream",
     "text": [
      "\n"
     ]
    },
    {
     "name": "stdout",
     "output_type": "stream",
     "text": [
      "[ec2-35-163-157-65.us-west-2.compute.amazonaws.com] out: "
     ]
    },
    {
     "name": "stdout",
     "output_type": "stream",
     "text": [
      "\n"
     ]
    },
    {
     "name": "stdout",
     "output_type": "stream",
     "text": [
      "[ec2-35-163-157-65.us-west-2.compute.amazonaws.com] out: "
     ]
    },
    {
     "name": "stdout",
     "output_type": "stream",
     "text": [
      "52.91.184.228 - - [05/Mar/2017 20:56:30] \"POST /slack HTTP/1.1\" 200 -\n"
     ]
    },
    {
     "name": "stdout",
     "output_type": "stream",
     "text": [
      "[ec2-35-163-157-65.us-west-2.compute.amazonaws.com] out: "
     ]
    }
   ],
   "source": [
    "# we need to use our chatbot virtual environment to run the server code\n",
    "with prefix('source activate chatbot'):\n",
    "    run('python myproject.py')\n",
    "    \n",
    "#if you need to stop the server script, just select this cell and click the stop button at the top"
   ]
  },
  {
   "cell_type": "code",
   "execution_count": 27,
   "metadata": {
    "collapsed": false
   },
   "outputs": [
    {
     "name": "stdout",
     "output_type": "stream",
     "text": [
      "[ec2-35-163-157-65.us-west-2.compute.amazonaws.com] sudo: killall python\n"
     ]
    },
    {
     "name": "stdout",
     "output_type": "stream",
     "text": [
      "/bin/bash: line 1: 26417 Terminated              python myproject.py\n"
     ]
    },
    {
     "name": "stdout",
     "output_type": "stream",
     "text": [
      "[ec2-35-163-157-65.us-west-2.compute.amazonaws.com] out: "
     ]
    },
    {
     "name": "stdout",
     "output_type": "stream",
     "text": [
      "\n"
     ]
    },
    {
     "data": {
      "text/plain": [
       "''"
      ]
     },
     "execution_count": 27,
     "metadata": {},
     "output_type": "execute_result"
    }
   ],
   "source": [
    "# after you've stopped the server, make sure it's not still running remotely\n",
    "sudo('killall python')"
   ]
  },
  {
   "cell_type": "markdown",
   "metadata": {},
   "source": [
    "# Once everything works, restart the project and nginx services to serve the routes you've set up:"
   ]
  },
  {
   "cell_type": "code",
   "execution_count": 29,
   "metadata": {
    "collapsed": false
   },
   "outputs": [
    {
     "name": "stdout",
     "output_type": "stream",
     "text": [
      "[ec2-35-166-108-198.us-west-2.compute.amazonaws.com] sudo: service myproject start\n",
      "[ec2-35-166-108-198.us-west-2.compute.amazonaws.com] sudo: service nginx start\n"
     ]
    },
    {
     "data": {
      "text/plain": [
       "''"
      ]
     },
     "execution_count": 29,
     "metadata": {},
     "output_type": "execute_result"
    }
   ],
   "source": [
    "sudo('service myproject start')\n",
    "sudo('service nginx start')"
   ]
  },
  {
   "cell_type": "code",
   "execution_count": null,
   "metadata": {
    "collapsed": true
   },
   "outputs": [],
   "source": [
    ""
   ]
  }
 ],
 "metadata": {
  "kernelspec": {
   "display_name": "Python [conda root]",
   "language": "python",
   "name": "conda-root-py"
  },
  "language_info": {
   "codemirror_mode": {
    "name": "ipython",
    "version": 2.0
   },
   "file_extension": ".py",
   "mimetype": "text/x-python",
   "name": "python",
   "nbconvert_exporter": "python",
   "pygments_lexer": "ipython2",
   "version": "2.7.12"
  }
 },
 "nbformat": 4,
 "nbformat_minor": 0
}